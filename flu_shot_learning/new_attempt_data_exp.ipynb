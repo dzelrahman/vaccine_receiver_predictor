{
 "cells": [
  {
   "cell_type": "markdown",
   "metadata": {},
   "source": [
    "# Prediksi Vaksin H1N1 dan Flu Musiman (Part 1 - Exploratory Data Analysis)"
   ]
  },
  {
   "cell_type": "markdown",
   "metadata": {},
   "source": [
    "Notebook ini adalah laporan yang saya buat untuk menjawab tantangan yang diberikan oleh DrivenData dalam kompetisi bertajuk \"Flu Shot\", dimana mereka menyediakan data berupa hasil survey yang dilakukan oleh otoritas medis di Amerika Serikat kepada sejumlah responden dengan pertanyaan yang berkaitan dengan flu H1N1 dan flu musiman."
   ]
  },
  {
   "cell_type": "markdown",
   "metadata": {},
   "source": [
    "![title](img/flu-vaccine.jpg)"
   ]
  },
  {
   "cell_type": "markdown",
   "metadata": {},
   "source": [
    "## Latar Belakang"
   ]
  },
  {
   "cell_type": "markdown",
   "metadata": {},
   "source": [
    "Pertanyaan utama yang ingin dipecahkan pada project/tantangan yang diberikan oleh drivendata ini adalah untuk menjawab tantangan apakah kita dapat memprediksi warga yang mendapatkan vaksin dengan menggunakan informasi yang mereka bagikan, seperti latar belakang, pandangan mereka mengenai penyakit, dan laku mereka mengenai kesehatan.Dengan menggunakan informasi yang mereka berikan, yang akan digunakan sebagai prediktor, apakah dapat dibuat sebuah model yang mampu secara akurat memprediksi apakah individual ini mendapatkan vaksin.\n",
    "\n",
    "Penelitian/model ini sebenarnya bisa diluaskan jangkauannya menjadi membuat sebuah prediksi untuk mengetahui apakah individu tertentu layak mendapatkan vaksin, berkaca pada informasi yang mereka berikan. Dalam skenario pandemi, yang saat ini sedang berlangsung di seluruh dunia, maupun ketika skenario terburuk adanya pandemi-pandemi berikutnya, pembuatan modeling menggunakan machine learning seperti ini sangat bermanfaat terutama ketika akses terhadap data dengan mudah kita kumpulkan, melalui media online, tidak harus turun langsung ke lapangan menanyakan satu per satu kepada individu yang ingin kita teliti. "
   ]
  },
  {
   "cell_type": "markdown",
   "metadata": {},
   "source": [
    "Berikut adalah informasi mengenai tantangan ini, yang bersumber dari overview yang diberikan oleh drivendata:\n",
    "\n",
    "- Inti dari tantangan ini adalah untuk meneliti lebih dalam mengenai vaksinasi, yang merupakan tindakan utama dalam bidang kesehatan masyarakat dalam perang melawan penyakit menular. Alasannya karena vaksin memberi garansi kekebalan pada setiap individu dan semakin banyak individu yang mendapatkan vaksin akan lebih jauh mengurangi penyebaran penyakit melalui mekanisme 'herd immunity' ,istilah yang sedang populer belakangan ini.\n",
    "\n",
    "- Tantangan ini ingin memutar memori masa lalu mengenai penanganan dan tindakan kesehatan masyarakat yang dilakukan ketikan pandemi yang berhubungan dengan gangguan pernapasan seperti H1N1 / flu babi yang menerpa beberapa negara, utamanya Amerika Serikat di tahun 2009.\n",
    "\n",
    "- Pembuatan vaksin hingga penggulirannya membutuhkan waktu yang cukup singkat, yaitu pada Oktober 2009, vaksin ini sudah dapat diakses oleh masyarakat. Data yang digunakan pada tantangan ini berasal dari survey telepon yang dilakukan oleh otoritas di Amerika Serikat antara akhir 2009 hingga 2010, yang menanyakan responden sejumlah pertanyaan seperti apakah mereka sudah menerima vaksin H1N1 dan flu musiman, dibarengi juga pertanyaatn tambahan mengenai latar belakang sosial, ekonomi, demografis, penyakit bawaan. Mereka juga ditanyai pendapatnya mengenai vaksin dan apa saja langkah-langkah yang mereka lakukan untuk menjaga diri agar tidak tertular.\n",
    "\n",
    "- Pemahaman mengenai variabel-variabel apa saja yang mempunyai asosiasi kuat dengan keputusan vaknisasi akan menghasilkan pola-pola tertentu yang dapat membantu penyebaran vaknisasi di masa yang akan datang atau dalam waktu dekat ini, ketika vaksin COVID-19 sudah dapat diakses oleh masyarakat."
   ]
  },
  {
   "cell_type": "markdown",
   "metadata": {},
   "source": [
    "Berikutnya, kita melakukan import terhadap package dan modul yang diperlukan untuk mempermudah pekerjaan analisis yang akan dilakukan. Tidak ada modul yang aneh atau baru disini, para pengguna aktif python tentu tidak asing dengan modul seperti numpy, pandas, scikit-learn, matplotlib, dan seaborn. Bagi para analis data, keberadaan modul ini sangat membantu untuk mempercepat pengerjaan analisa data, terutama ketika berhadapan dengan mahadata (big data) yang seringkali belum \"bersih\" dan membutuhkan proses-proses lanjutan. "
   ]
  },
  {
   "cell_type": "code",
   "execution_count": 69,
   "metadata": {},
   "outputs": [],
   "source": [
    "import numpy as np\n",
    "import pandas as pd\n",
    "import sklearn\n",
    "from sklearn.linear_model import LogisticRegression\n",
    "from sklearn.impute import SimpleImputer\n",
    "import scipy\n",
    "import matplotlib.pyplot as plt\n",
    "# import plotly\n",
    "import os\n",
    "import seaborn as sns"
   ]
  },
  {
   "cell_type": "markdown",
   "metadata": {},
   "source": [
    "Ada 35 kolom berisikan informasi yang didapatkan/dikumpulkan berdasarkan survei telepon yang dilakukan oleh otoritas kesehatan Amerika Serikat. 35 kolom ini adalah calon variabel yang akan digunakan dalam pembuatan model, tergantung pada tingkat korelasi antar variabel dan antara variabel dengan target. Namun sebelum lebih jauh, kita harus memahami dengan benar dan teliti bagaimana penjelasan dari masing-masing informasi yang dikumpulkan pada tiap kolom ini."
   ]
  },
  {
   "cell_type": "markdown",
   "metadata": {},
   "source": [
    "Di bawah ini adalah penjelasan dari setiap variabel dalam setiap kolom beserta penjelasannya:\n",
    "\n",
    "1. h1n1_concern - Tingkat perhatian/kekhawatiran terhadap virus H1N1.\n",
    "   - 0 = Sama sekali tidak khawatir; 1 = Tidak khawatir; 2 = Cukup khawatir; 3 = Sangat khawatir.\n",
    "2. h1n1_knowledge - Tingkat pengetahuan tentang flu H1N1.\n",
    "   - 0 = Tidak memiliki pengetahuan; 1 = Sedikit memiliki pengetahuan; 2 = Punya banyak pengetahuan.\n",
    "3. behavioral_antiviral_meds - Telah meminum obat antivirus. (binary)\n",
    "4. behavioral_avoidance - Telah menghindari kontak jarak dekat dengan orang yang memiliki gejala seperti flu. (binary)\n",
    "5. behavioral_face_mask - Membeli masker. (binary)\n",
    "6. behavioral_wash_hands - Mencuci tangan secara berkala atau menggunakan hand sanitizer. (binary)\n",
    "7. behavioral_large_gatherings - Mengurangi waktu berada di perkumpulan besar. (binary)\n",
    "8. behavioral_outside_home - Mengurangi kontak dengan orang yang berada di luar rumahnya. (binary)\n",
    "9. behavioral_touch_face - Menghindari menyentuh mata, hidung, mulut. (binary)\n",
    "10. doctor_recc_h1n1 - vaksin flu H1N1 direkomendasikan oleh dokter. (binary)\n",
    "11. doctor_recc_seasonal - vaksin flu musiman direkomendasikan oleh dokter. (binary)\n",
    "12. chronic_med_condition - Mengidap salah satu dari penyakit kronis sebagai berikut: asma dan gangguan paru-paru lainnya, diabetes, gangguan jantung, gangguan lambung, anemia, gangguan neurologis dan neuromuskuler, kondisi hati, sistem imun melemah disebabkan penyakit kronik bawaan atau karena sebab obat penyakit kronis yang diminum. (binary)\n",
    "13. child_under_6_months - Kontak langsung secara sering dengan anak kecil di bawah enam bulan. (binary)\n",
    "14. health_worker - Berstatus sebagai pekerja medis. (binary)\n",
    "15. health_insurance - Memiliki asuransi kesehatan. (binary)\n",
    "16. opinion_h1n1_vacc_effective - Opini responden tentang efektivitas vaksin flu H1N1.\n",
    "    - 1 = Sama sekali tidak efektif; 2 = Sangat tidak efektif; 3 = Tidak tahu; 4 = Cukup efektif; 5 = Sangat efektif.\n",
    "17. opinion_h1n1_risk - Opini responden mengenai risiko terkena virus H1N1 tanpa vaksin.\n",
    "    - 1 = Sangat kecil; 2 = Cukup kecil; 3 = Tidak tahu; 4 = Cukup besar; 5 = Sangat besar.\n",
    "18. opinion_h1n1_sick_from_vacc - Kekhawatiran responden akan jatuh sakit setelah menerima vaksin H1N1.\n",
    "    - 1 = Tidak khawatir sama sekali; 2 = Tidak terlalu khawatir; 3 = Tidak tahu; 4 = Cukup khawatir; 5 = Sangat khawatir.\n",
    "19. opinion_seas_vacc_effective - Opini responden mengenai efektivitas vaksin flu musiman.\n",
    "    - 1 = Sama sekali tidak efektif; 2 = Tidak cukup efektif; 3 = Tidak tahu; 4 = Cukup efektif; 5 = Sangat efektif.\n",
    "20. opinion_seas_risk - Opini responden mengenai kemungkinan risiko terkena virus flu musiman tanpa vaksin.\n",
    "    - 1 = Sangat rendah; 2 = Cukup rendah; 3 = Tidak tahu; 4 = Cukup tinggi; 5 = Sangat tinggi.\n",
    "21. opinion_seas_sick_from_vacc - Kekhawatiran responden akan jatuh sakit setelah menerima vaksin flu musiman.\n",
    "    - 1 = Tidak khawatir sama sekali; 2 = Tidak terlalu khawatir; 3 = Tidak tahu; 4 = Cukup khawatir; 5 = Sangat khawatir.\n",
    "22. age_group - Kelompok umur dari responden.\n",
    "23. education - Tingkat pendidikan responden yang mereka isi sendiri.\n",
    "24. race - Jenis ras responden.\n",
    "25. sex - Jenis kelamin responden.\n",
    "26. income_poverty - Pendapatan tahunan responden berdasarkan ambang kemiskinan sensus penduduk 2008.\n",
    "27. marital_status - Status perkawinan responden.\n",
    "28. rent_or_own - Status kepelimikan rumah responden.\n",
    "29. employment_status - Status pekerjaan responden.\n",
    "30. hhs_geo_region - Kawasan tempat tinggal responded menggunakan klasifikasi geografis 10-daerah yang ditentukan oleh Departemen Kesehatan dan Layanan Masyarakat Amerika Serikat. Nilainya ditulis dengan karakter acak.\n",
    "31. census_msa - Kawasan tempat tinggal responden di dalam area statistik metropolitan yang ditentukan oleh lembaga sensus Amerika Serikat\n",
    "32. household_adults - Jumlah orang dewasa lain dalam satu rumah.\n",
    "33. household_children - Jumlah anak kecil dalam satu rumah.\n",
    "34. employment_industry - Jenis industri responden bekerja. Nilainya ditulis dengan karakter acak.\n",
    "35. employment_occupation - Jenis pekerjaan responden. Nilainya ditulis dengan karakter acak."
   ]
  },
  {
   "cell_type": "markdown",
   "metadata": {},
   "source": [
    "## Memasukkan data ke dalam notebook"
   ]
  },
  {
   "cell_type": "code",
   "execution_count": 70,
   "metadata": {},
   "outputs": [
    {
     "data": {
      "text/plain": [
       "['.ipynb_checkpoints',\n",
       " 'flushot_prediction.ipynb',\n",
       " 'new_attempt_data_exp.ipynb',\n",
       " 'submission_format (1).csv',\n",
       " 'test_set_features.csv',\n",
       " 'training_set_features.csv',\n",
       " 'training_set_labels (1).csv']"
      ]
     },
     "execution_count": 70,
     "metadata": {},
     "output_type": "execute_result"
    }
   ],
   "source": [
    "# memeriksa data yang tersedia pada direktori\n",
    "\n",
    "os.listdir()"
   ]
  },
  {
   "cell_type": "code",
   "execution_count": 71,
   "metadata": {},
   "outputs": [],
   "source": [
    "# membaca data\n",
    "\n",
    "train = pd.read_csv(\"training_set_features.csv\")\n",
    "train_labels = pd.read_csv(\"training_set_labels (1).csv\")"
   ]
  },
  {
   "cell_type": "code",
   "execution_count": 72,
   "metadata": {
    "scrolled": true
   },
   "outputs": [
    {
     "data": {
      "text/html": [
       "<div>\n",
       "<style scoped>\n",
       "    .dataframe tbody tr th:only-of-type {\n",
       "        vertical-align: middle;\n",
       "    }\n",
       "\n",
       "    .dataframe tbody tr th {\n",
       "        vertical-align: top;\n",
       "    }\n",
       "\n",
       "    .dataframe thead th {\n",
       "        text-align: right;\n",
       "    }\n",
       "</style>\n",
       "<table border=\"1\" class=\"dataframe\">\n",
       "  <thead>\n",
       "    <tr style=\"text-align: right;\">\n",
       "      <th></th>\n",
       "      <th>respondent_id</th>\n",
       "      <th>h1n1_concern</th>\n",
       "      <th>h1n1_knowledge</th>\n",
       "      <th>behavioral_antiviral_meds</th>\n",
       "      <th>behavioral_avoidance</th>\n",
       "      <th>behavioral_face_mask</th>\n",
       "      <th>behavioral_wash_hands</th>\n",
       "      <th>behavioral_large_gatherings</th>\n",
       "      <th>behavioral_outside_home</th>\n",
       "      <th>behavioral_touch_face</th>\n",
       "      <th>...</th>\n",
       "      <th>income_poverty</th>\n",
       "      <th>marital_status</th>\n",
       "      <th>rent_or_own</th>\n",
       "      <th>employment_status</th>\n",
       "      <th>hhs_geo_region</th>\n",
       "      <th>census_msa</th>\n",
       "      <th>household_adults</th>\n",
       "      <th>household_children</th>\n",
       "      <th>employment_industry</th>\n",
       "      <th>employment_occupation</th>\n",
       "    </tr>\n",
       "  </thead>\n",
       "  <tbody>\n",
       "    <tr>\n",
       "      <th>0</th>\n",
       "      <td>0</td>\n",
       "      <td>1.0</td>\n",
       "      <td>0.0</td>\n",
       "      <td>0.0</td>\n",
       "      <td>0.0</td>\n",
       "      <td>0.0</td>\n",
       "      <td>0.0</td>\n",
       "      <td>0.0</td>\n",
       "      <td>1.0</td>\n",
       "      <td>1.0</td>\n",
       "      <td>...</td>\n",
       "      <td>Below Poverty</td>\n",
       "      <td>Not Married</td>\n",
       "      <td>Own</td>\n",
       "      <td>Not in Labor Force</td>\n",
       "      <td>oxchjgsf</td>\n",
       "      <td>Non-MSA</td>\n",
       "      <td>0.0</td>\n",
       "      <td>0.0</td>\n",
       "      <td>NaN</td>\n",
       "      <td>NaN</td>\n",
       "    </tr>\n",
       "    <tr>\n",
       "      <th>1</th>\n",
       "      <td>1</td>\n",
       "      <td>3.0</td>\n",
       "      <td>2.0</td>\n",
       "      <td>0.0</td>\n",
       "      <td>1.0</td>\n",
       "      <td>0.0</td>\n",
       "      <td>1.0</td>\n",
       "      <td>0.0</td>\n",
       "      <td>1.0</td>\n",
       "      <td>1.0</td>\n",
       "      <td>...</td>\n",
       "      <td>Below Poverty</td>\n",
       "      <td>Not Married</td>\n",
       "      <td>Rent</td>\n",
       "      <td>Employed</td>\n",
       "      <td>bhuqouqj</td>\n",
       "      <td>MSA, Not Principle  City</td>\n",
       "      <td>0.0</td>\n",
       "      <td>0.0</td>\n",
       "      <td>pxcmvdjn</td>\n",
       "      <td>xgwztkwe</td>\n",
       "    </tr>\n",
       "    <tr>\n",
       "      <th>2</th>\n",
       "      <td>2</td>\n",
       "      <td>1.0</td>\n",
       "      <td>1.0</td>\n",
       "      <td>0.0</td>\n",
       "      <td>1.0</td>\n",
       "      <td>0.0</td>\n",
       "      <td>0.0</td>\n",
       "      <td>0.0</td>\n",
       "      <td>0.0</td>\n",
       "      <td>0.0</td>\n",
       "      <td>...</td>\n",
       "      <td>&lt;= $75,000, Above Poverty</td>\n",
       "      <td>Not Married</td>\n",
       "      <td>Own</td>\n",
       "      <td>Employed</td>\n",
       "      <td>qufhixun</td>\n",
       "      <td>MSA, Not Principle  City</td>\n",
       "      <td>2.0</td>\n",
       "      <td>0.0</td>\n",
       "      <td>rucpziij</td>\n",
       "      <td>xtkaffoo</td>\n",
       "    </tr>\n",
       "    <tr>\n",
       "      <th>3</th>\n",
       "      <td>3</td>\n",
       "      <td>1.0</td>\n",
       "      <td>1.0</td>\n",
       "      <td>0.0</td>\n",
       "      <td>1.0</td>\n",
       "      <td>0.0</td>\n",
       "      <td>1.0</td>\n",
       "      <td>1.0</td>\n",
       "      <td>0.0</td>\n",
       "      <td>0.0</td>\n",
       "      <td>...</td>\n",
       "      <td>Below Poverty</td>\n",
       "      <td>Not Married</td>\n",
       "      <td>Rent</td>\n",
       "      <td>Not in Labor Force</td>\n",
       "      <td>lrircsnp</td>\n",
       "      <td>MSA, Principle City</td>\n",
       "      <td>0.0</td>\n",
       "      <td>0.0</td>\n",
       "      <td>NaN</td>\n",
       "      <td>NaN</td>\n",
       "    </tr>\n",
       "    <tr>\n",
       "      <th>4</th>\n",
       "      <td>4</td>\n",
       "      <td>2.0</td>\n",
       "      <td>1.0</td>\n",
       "      <td>0.0</td>\n",
       "      <td>1.0</td>\n",
       "      <td>0.0</td>\n",
       "      <td>1.0</td>\n",
       "      <td>1.0</td>\n",
       "      <td>0.0</td>\n",
       "      <td>1.0</td>\n",
       "      <td>...</td>\n",
       "      <td>&lt;= $75,000, Above Poverty</td>\n",
       "      <td>Married</td>\n",
       "      <td>Own</td>\n",
       "      <td>Employed</td>\n",
       "      <td>qufhixun</td>\n",
       "      <td>MSA, Not Principle  City</td>\n",
       "      <td>1.0</td>\n",
       "      <td>0.0</td>\n",
       "      <td>wxleyezf</td>\n",
       "      <td>emcorrxb</td>\n",
       "    </tr>\n",
       "    <tr>\n",
       "      <th>...</th>\n",
       "      <td>...</td>\n",
       "      <td>...</td>\n",
       "      <td>...</td>\n",
       "      <td>...</td>\n",
       "      <td>...</td>\n",
       "      <td>...</td>\n",
       "      <td>...</td>\n",
       "      <td>...</td>\n",
       "      <td>...</td>\n",
       "      <td>...</td>\n",
       "      <td>...</td>\n",
       "      <td>...</td>\n",
       "      <td>...</td>\n",
       "      <td>...</td>\n",
       "      <td>...</td>\n",
       "      <td>...</td>\n",
       "      <td>...</td>\n",
       "      <td>...</td>\n",
       "      <td>...</td>\n",
       "      <td>...</td>\n",
       "      <td>...</td>\n",
       "    </tr>\n",
       "    <tr>\n",
       "      <th>26702</th>\n",
       "      <td>26702</td>\n",
       "      <td>2.0</td>\n",
       "      <td>0.0</td>\n",
       "      <td>0.0</td>\n",
       "      <td>1.0</td>\n",
       "      <td>0.0</td>\n",
       "      <td>0.0</td>\n",
       "      <td>0.0</td>\n",
       "      <td>1.0</td>\n",
       "      <td>0.0</td>\n",
       "      <td>...</td>\n",
       "      <td>&lt;= $75,000, Above Poverty</td>\n",
       "      <td>Not Married</td>\n",
       "      <td>Own</td>\n",
       "      <td>Not in Labor Force</td>\n",
       "      <td>qufhixun</td>\n",
       "      <td>Non-MSA</td>\n",
       "      <td>0.0</td>\n",
       "      <td>0.0</td>\n",
       "      <td>NaN</td>\n",
       "      <td>NaN</td>\n",
       "    </tr>\n",
       "    <tr>\n",
       "      <th>26703</th>\n",
       "      <td>26703</td>\n",
       "      <td>1.0</td>\n",
       "      <td>2.0</td>\n",
       "      <td>0.0</td>\n",
       "      <td>1.0</td>\n",
       "      <td>0.0</td>\n",
       "      <td>1.0</td>\n",
       "      <td>0.0</td>\n",
       "      <td>0.0</td>\n",
       "      <td>0.0</td>\n",
       "      <td>...</td>\n",
       "      <td>&lt;= $75,000, Above Poverty</td>\n",
       "      <td>Not Married</td>\n",
       "      <td>Rent</td>\n",
       "      <td>Employed</td>\n",
       "      <td>lzgpxyit</td>\n",
       "      <td>MSA, Principle City</td>\n",
       "      <td>1.0</td>\n",
       "      <td>0.0</td>\n",
       "      <td>fcxhlnwr</td>\n",
       "      <td>cmhcxjea</td>\n",
       "    </tr>\n",
       "    <tr>\n",
       "      <th>26704</th>\n",
       "      <td>26704</td>\n",
       "      <td>2.0</td>\n",
       "      <td>2.0</td>\n",
       "      <td>0.0</td>\n",
       "      <td>1.0</td>\n",
       "      <td>1.0</td>\n",
       "      <td>1.0</td>\n",
       "      <td>1.0</td>\n",
       "      <td>0.0</td>\n",
       "      <td>1.0</td>\n",
       "      <td>...</td>\n",
       "      <td>NaN</td>\n",
       "      <td>Not Married</td>\n",
       "      <td>Own</td>\n",
       "      <td>NaN</td>\n",
       "      <td>lzgpxyit</td>\n",
       "      <td>MSA, Not Principle  City</td>\n",
       "      <td>0.0</td>\n",
       "      <td>0.0</td>\n",
       "      <td>NaN</td>\n",
       "      <td>NaN</td>\n",
       "    </tr>\n",
       "    <tr>\n",
       "      <th>26705</th>\n",
       "      <td>26705</td>\n",
       "      <td>1.0</td>\n",
       "      <td>1.0</td>\n",
       "      <td>0.0</td>\n",
       "      <td>0.0</td>\n",
       "      <td>0.0</td>\n",
       "      <td>0.0</td>\n",
       "      <td>0.0</td>\n",
       "      <td>0.0</td>\n",
       "      <td>NaN</td>\n",
       "      <td>...</td>\n",
       "      <td>&lt;= $75,000, Above Poverty</td>\n",
       "      <td>Married</td>\n",
       "      <td>Rent</td>\n",
       "      <td>Employed</td>\n",
       "      <td>lrircsnp</td>\n",
       "      <td>Non-MSA</td>\n",
       "      <td>1.0</td>\n",
       "      <td>0.0</td>\n",
       "      <td>fcxhlnwr</td>\n",
       "      <td>haliazsg</td>\n",
       "    </tr>\n",
       "    <tr>\n",
       "      <th>26706</th>\n",
       "      <td>26706</td>\n",
       "      <td>0.0</td>\n",
       "      <td>0.0</td>\n",
       "      <td>0.0</td>\n",
       "      <td>1.0</td>\n",
       "      <td>0.0</td>\n",
       "      <td>0.0</td>\n",
       "      <td>0.0</td>\n",
       "      <td>0.0</td>\n",
       "      <td>0.0</td>\n",
       "      <td>...</td>\n",
       "      <td>&lt;= $75,000, Above Poverty</td>\n",
       "      <td>Married</td>\n",
       "      <td>Own</td>\n",
       "      <td>Not in Labor Force</td>\n",
       "      <td>mlyzmhmf</td>\n",
       "      <td>MSA, Principle City</td>\n",
       "      <td>1.0</td>\n",
       "      <td>0.0</td>\n",
       "      <td>NaN</td>\n",
       "      <td>NaN</td>\n",
       "    </tr>\n",
       "  </tbody>\n",
       "</table>\n",
       "<p>26707 rows × 36 columns</p>\n",
       "</div>"
      ],
      "text/plain": [
       "       respondent_id  h1n1_concern  h1n1_knowledge  behavioral_antiviral_meds  \\\n",
       "0                  0           1.0             0.0                        0.0   \n",
       "1                  1           3.0             2.0                        0.0   \n",
       "2                  2           1.0             1.0                        0.0   \n",
       "3                  3           1.0             1.0                        0.0   \n",
       "4                  4           2.0             1.0                        0.0   \n",
       "...              ...           ...             ...                        ...   \n",
       "26702          26702           2.0             0.0                        0.0   \n",
       "26703          26703           1.0             2.0                        0.0   \n",
       "26704          26704           2.0             2.0                        0.0   \n",
       "26705          26705           1.0             1.0                        0.0   \n",
       "26706          26706           0.0             0.0                        0.0   \n",
       "\n",
       "       behavioral_avoidance  behavioral_face_mask  behavioral_wash_hands  \\\n",
       "0                       0.0                   0.0                    0.0   \n",
       "1                       1.0                   0.0                    1.0   \n",
       "2                       1.0                   0.0                    0.0   \n",
       "3                       1.0                   0.0                    1.0   \n",
       "4                       1.0                   0.0                    1.0   \n",
       "...                     ...                   ...                    ...   \n",
       "26702                   1.0                   0.0                    0.0   \n",
       "26703                   1.0                   0.0                    1.0   \n",
       "26704                   1.0                   1.0                    1.0   \n",
       "26705                   0.0                   0.0                    0.0   \n",
       "26706                   1.0                   0.0                    0.0   \n",
       "\n",
       "       behavioral_large_gatherings  behavioral_outside_home  \\\n",
       "0                              0.0                      1.0   \n",
       "1                              0.0                      1.0   \n",
       "2                              0.0                      0.0   \n",
       "3                              1.0                      0.0   \n",
       "4                              1.0                      0.0   \n",
       "...                            ...                      ...   \n",
       "26702                          0.0                      1.0   \n",
       "26703                          0.0                      0.0   \n",
       "26704                          1.0                      0.0   \n",
       "26705                          0.0                      0.0   \n",
       "26706                          0.0                      0.0   \n",
       "\n",
       "       behavioral_touch_face  ...             income_poverty  marital_status  \\\n",
       "0                        1.0  ...              Below Poverty     Not Married   \n",
       "1                        1.0  ...              Below Poverty     Not Married   \n",
       "2                        0.0  ...  <= $75,000, Above Poverty     Not Married   \n",
       "3                        0.0  ...              Below Poverty     Not Married   \n",
       "4                        1.0  ...  <= $75,000, Above Poverty         Married   \n",
       "...                      ...  ...                        ...             ...   \n",
       "26702                    0.0  ...  <= $75,000, Above Poverty     Not Married   \n",
       "26703                    0.0  ...  <= $75,000, Above Poverty     Not Married   \n",
       "26704                    1.0  ...                        NaN     Not Married   \n",
       "26705                    NaN  ...  <= $75,000, Above Poverty         Married   \n",
       "26706                    0.0  ...  <= $75,000, Above Poverty         Married   \n",
       "\n",
       "       rent_or_own   employment_status  hhs_geo_region  \\\n",
       "0              Own  Not in Labor Force        oxchjgsf   \n",
       "1             Rent            Employed        bhuqouqj   \n",
       "2              Own            Employed        qufhixun   \n",
       "3             Rent  Not in Labor Force        lrircsnp   \n",
       "4              Own            Employed        qufhixun   \n",
       "...            ...                 ...             ...   \n",
       "26702          Own  Not in Labor Force        qufhixun   \n",
       "26703         Rent            Employed        lzgpxyit   \n",
       "26704          Own                 NaN        lzgpxyit   \n",
       "26705         Rent            Employed        lrircsnp   \n",
       "26706          Own  Not in Labor Force        mlyzmhmf   \n",
       "\n",
       "                     census_msa  household_adults  household_children  \\\n",
       "0                       Non-MSA               0.0                 0.0   \n",
       "1      MSA, Not Principle  City               0.0                 0.0   \n",
       "2      MSA, Not Principle  City               2.0                 0.0   \n",
       "3           MSA, Principle City               0.0                 0.0   \n",
       "4      MSA, Not Principle  City               1.0                 0.0   \n",
       "...                         ...               ...                 ...   \n",
       "26702                   Non-MSA               0.0                 0.0   \n",
       "26703       MSA, Principle City               1.0                 0.0   \n",
       "26704  MSA, Not Principle  City               0.0                 0.0   \n",
       "26705                   Non-MSA               1.0                 0.0   \n",
       "26706       MSA, Principle City               1.0                 0.0   \n",
       "\n",
       "       employment_industry  employment_occupation  \n",
       "0                      NaN                    NaN  \n",
       "1                 pxcmvdjn               xgwztkwe  \n",
       "2                 rucpziij               xtkaffoo  \n",
       "3                      NaN                    NaN  \n",
       "4                 wxleyezf               emcorrxb  \n",
       "...                    ...                    ...  \n",
       "26702                  NaN                    NaN  \n",
       "26703             fcxhlnwr               cmhcxjea  \n",
       "26704                  NaN                    NaN  \n",
       "26705             fcxhlnwr               haliazsg  \n",
       "26706                  NaN                    NaN  \n",
       "\n",
       "[26707 rows x 36 columns]"
      ]
     },
     "execution_count": 72,
     "metadata": {},
     "output_type": "execute_result"
    }
   ],
   "source": [
    "train"
   ]
  },
  {
   "cell_type": "code",
   "execution_count": 73,
   "metadata": {},
   "outputs": [
    {
     "data": {
      "text/html": [
       "<div>\n",
       "<style scoped>\n",
       "    .dataframe tbody tr th:only-of-type {\n",
       "        vertical-align: middle;\n",
       "    }\n",
       "\n",
       "    .dataframe tbody tr th {\n",
       "        vertical-align: top;\n",
       "    }\n",
       "\n",
       "    .dataframe thead th {\n",
       "        text-align: right;\n",
       "    }\n",
       "</style>\n",
       "<table border=\"1\" class=\"dataframe\">\n",
       "  <thead>\n",
       "    <tr style=\"text-align: right;\">\n",
       "      <th></th>\n",
       "      <th>respondent_id</th>\n",
       "      <th>h1n1_vaccine</th>\n",
       "      <th>seasonal_vaccine</th>\n",
       "    </tr>\n",
       "  </thead>\n",
       "  <tbody>\n",
       "    <tr>\n",
       "      <th>0</th>\n",
       "      <td>0</td>\n",
       "      <td>0</td>\n",
       "      <td>0</td>\n",
       "    </tr>\n",
       "    <tr>\n",
       "      <th>1</th>\n",
       "      <td>1</td>\n",
       "      <td>0</td>\n",
       "      <td>1</td>\n",
       "    </tr>\n",
       "    <tr>\n",
       "      <th>2</th>\n",
       "      <td>2</td>\n",
       "      <td>0</td>\n",
       "      <td>0</td>\n",
       "    </tr>\n",
       "    <tr>\n",
       "      <th>3</th>\n",
       "      <td>3</td>\n",
       "      <td>0</td>\n",
       "      <td>1</td>\n",
       "    </tr>\n",
       "    <tr>\n",
       "      <th>4</th>\n",
       "      <td>4</td>\n",
       "      <td>0</td>\n",
       "      <td>0</td>\n",
       "    </tr>\n",
       "    <tr>\n",
       "      <th>...</th>\n",
       "      <td>...</td>\n",
       "      <td>...</td>\n",
       "      <td>...</td>\n",
       "    </tr>\n",
       "    <tr>\n",
       "      <th>26702</th>\n",
       "      <td>26702</td>\n",
       "      <td>0</td>\n",
       "      <td>0</td>\n",
       "    </tr>\n",
       "    <tr>\n",
       "      <th>26703</th>\n",
       "      <td>26703</td>\n",
       "      <td>0</td>\n",
       "      <td>0</td>\n",
       "    </tr>\n",
       "    <tr>\n",
       "      <th>26704</th>\n",
       "      <td>26704</td>\n",
       "      <td>0</td>\n",
       "      <td>1</td>\n",
       "    </tr>\n",
       "    <tr>\n",
       "      <th>26705</th>\n",
       "      <td>26705</td>\n",
       "      <td>0</td>\n",
       "      <td>0</td>\n",
       "    </tr>\n",
       "    <tr>\n",
       "      <th>26706</th>\n",
       "      <td>26706</td>\n",
       "      <td>0</td>\n",
       "      <td>0</td>\n",
       "    </tr>\n",
       "  </tbody>\n",
       "</table>\n",
       "<p>26707 rows × 3 columns</p>\n",
       "</div>"
      ],
      "text/plain": [
       "       respondent_id  h1n1_vaccine  seasonal_vaccine\n",
       "0                  0             0                 0\n",
       "1                  1             0                 1\n",
       "2                  2             0                 0\n",
       "3                  3             0                 1\n",
       "4                  4             0                 0\n",
       "...              ...           ...               ...\n",
       "26702          26702             0                 0\n",
       "26703          26703             0                 0\n",
       "26704          26704             0                 1\n",
       "26705          26705             0                 0\n",
       "26706          26706             0                 0\n",
       "\n",
       "[26707 rows x 3 columns]"
      ]
     },
     "execution_count": 73,
     "metadata": {},
     "output_type": "execute_result"
    }
   ],
   "source": [
    "train_labels"
   ]
  },
  {
   "cell_type": "markdown",
   "metadata": {},
   "source": [
    "## Analisa Data"
   ]
  },
  {
   "cell_type": "markdown",
   "metadata": {},
   "source": [
    "Sebelum melakukan analisa terhadap data, kita wajib mengajukan pertanyaan yang akan bermanfaat untuk kepentingan analisa, seperti berapa proporsi dari masing-masing prediktor / label, yaitu berapa proporsi dari mereka yang mendapatkan vaksin H1N1 dan yang mendapatkan vaksin musiman. Informasi mengenai proporsi ini dapat digunakan untuk analisa fitur ketika melakukan modeling."
   ]
  },
  {
   "cell_type": "markdown",
   "metadata": {},
   "source": [
    "Selanjutnya, kita akan mengetahui proporsi mereka yang mendapatkan vaksin H1N1 dengan menuliskan script berikut:"
   ]
  },
  {
   "cell_type": "markdown",
   "metadata": {},
   "source": [
    "Pertanyaan 0: Berapa banyak yang mendapatkan vaksin H1N1 dan vaksin flu?"
   ]
  },
  {
   "cell_type": "code",
   "execution_count": 74,
   "metadata": {
    "scrolled": true
   },
   "outputs": [
    {
     "data": {
      "text/plain": [
       "<matplotlib.axes._subplots.AxesSubplot at 0x24cb8b57548>"
      ]
     },
     "execution_count": 74,
     "metadata": {},
     "output_type": "execute_result"
    },
    {
     "data": {
      "image/png": "[encoded data removed]",
      "text/plain": [
       "<Figure size 864x432 with 1 Axes>"
      ]
     },
     "metadata": {},
     "output_type": "display_data"
    }
   ],
   "source": [
    "# vaksin h1n1\n",
    "plt.figure(figsize=(12,6))\n",
    "sns.set_style(\"whitegrid\")\n",
    "sns.countplot(x=\"h1n1_vaccine\", data=train_labels, palette='RdBu_r')"
   ]
  },
  {
   "cell_type": "markdown",
   "metadata": {},
   "source": [
    "Dari hasil di atas dapat diketahui bahwa ada ketidak seimbangan antara dua kategori di dalam variabel prediktor. Proporsi mereka yang tidak mendapatkan vaksin jauh lebih banyak dari yang mendapatkan vaksin. Kurang dari seperempat dari jumlah individu yang diteliti yang mendapatkan vaksin H1N1"
   ]
  },
  {
   "cell_type": "markdown",
   "metadata": {},
   "source": [
    "Selanjutnya, kita akan melihat proporsi mereka yang mendapatkan vaksin flu dengan menuliskan script berikut:"
   ]
  },
  {
   "cell_type": "code",
   "execution_count": 75,
   "metadata": {},
   "outputs": [
    {
     "data": {
      "text/plain": [
       "<matplotlib.axes._subplots.AxesSubplot at 0x24cb8b57648>"
      ]
     },
     "execution_count": 75,
     "metadata": {},
     "output_type": "execute_result"
    },
    {
     "data": {
      "image/png": "[encoded data removed]",
      "text/plain": [
       "<Figure size 864x432 with 1 Axes>"
      ]
     },
     "metadata": {},
     "output_type": "display_data"
    }
   ],
   "source": [
    "# vaksin flu\n",
    "plt.figure(figsize=(12,6))\n",
    "sns.set_style(\"whitegrid\")\n",
    "sns.countplot(x=\"seasonal_vaccine\", data=train_labels, palette='RdBu_r')"
   ]
  },
  {
   "cell_type": "markdown",
   "metadata": {},
   "source": [
    "Tampak di atas bahwa proporsi mereka yang menerima dan tidak menerima vaksin flu lebih seimbang daripada penerima vaksin H1N1. Selanjutnya, kita akan mencari tahu apakah ada korelasi antara penerima vaksin H1N1 dan vaksin flu. Apakah dapat dikatakan jika individu menerima vaksin H1N1, maka dia cenderung akan menerima vaksin flu juga. Kita akan mengetahuinya bersama."
   ]
  },
  {
   "cell_type": "markdown",
   "metadata": {},
   "source": [
    "Apakah ada korelasi antara penerima vaksin H1N1 dan penerima vaksin flu?"
   ]
  },
  {
   "cell_type": "code",
   "execution_count": 76,
   "metadata": {},
   "outputs": [
    {
     "data": {
      "text/plain": [
       "0.37714265306144684"
      ]
     },
     "execution_count": 76,
     "metadata": {},
     "output_type": "execute_result"
    }
   ],
   "source": [
    "train_labels[\"h1n1_vaccine\"].corr(train_labels[\"seasonal_vaccine\"], method=\"pearson\")"
   ]
  },
  {
   "cell_type": "markdown",
   "metadata": {},
   "source": [
    "Kita melihat dari hasil di atas bahwa ada korelasi ringan antara kedua variabel target ini yaitu sebesar 0.377, dimana hasil ini cukup masuk akal. Biasanya mereka yang menerima satu vaksin akan menerima vaksin yang lain. Namun kenyataannya tidak selalu demikian. Berikut ini adalah penjelasan mengenai pengaruh seorang yang menerima satu vaksin untuk mendapatkan vaksin berikutnya/kedua yang ditampilkan dalam bentuk tabel."
   ]
  },
  {
   "cell_type": "code",
   "execution_count": 77,
   "metadata": {},
   "outputs": [
    {
     "data": {
      "text/html": [
       "<div>\n",
       "<style scoped>\n",
       "    .dataframe tbody tr th:only-of-type {\n",
       "        vertical-align: middle;\n",
       "    }\n",
       "\n",
       "    .dataframe tbody tr th {\n",
       "        vertical-align: top;\n",
       "    }\n",
       "\n",
       "    .dataframe thead th {\n",
       "        text-align: right;\n",
       "    }\n",
       "</style>\n",
       "<table border=\"1\" class=\"dataframe\">\n",
       "  <thead>\n",
       "    <tr style=\"text-align: right;\">\n",
       "      <th>seasonal_vaccine</th>\n",
       "      <th>0</th>\n",
       "      <th>1</th>\n",
       "    </tr>\n",
       "    <tr>\n",
       "      <th>h1n1_vaccine</th>\n",
       "      <th></th>\n",
       "      <th></th>\n",
       "    </tr>\n",
       "  </thead>\n",
       "  <tbody>\n",
       "    <tr>\n",
       "      <th>0</th>\n",
       "      <td>13295</td>\n",
       "      <td>7738</td>\n",
       "    </tr>\n",
       "    <tr>\n",
       "      <th>1</th>\n",
       "      <td>977</td>\n",
       "      <td>4697</td>\n",
       "    </tr>\n",
       "  </tbody>\n",
       "</table>\n",
       "</div>"
      ],
      "text/plain": [
       "seasonal_vaccine      0     1\n",
       "h1n1_vaccine                 \n",
       "0                 13295  7738\n",
       "1                   977  4697"
      ]
     },
     "execution_count": 77,
     "metadata": {},
     "output_type": "execute_result"
    }
   ],
   "source": [
    "tab = pd.crosstab(train_labels[\"h1n1_vaccine\"], train_labels[\"seasonal_vaccine\"])\n",
    "\n",
    "tab"
   ]
  },
  {
   "cell_type": "markdown",
   "metadata": {},
   "source": [
    "Untuk memperjelas informasi yang terkandung pada tabel di atas, mari kita ubah dalam bentuk kalimat. Dari tabel di atas seharusnya kita dapat mengetahui \n",
    "\n",
    "- Berapa persen individu yang mendapatkan/menerima kedua vaksin\n",
    "- Berapa persen individu yang tidak menerima kedua vaksin sama sekali\n",
    "- Berapa persen individu yang mendapatkan vaksin H1N1 namun tidak mendapatkan vaksin flu biasa\n",
    "- Berapa persen individu yang mendapatkan vaksin flu biasa namun tidak mendapatkan vaksin H1N1\n",
    "\n",
    "Berikut ini adalah penjelasannya:"
   ]
  },
  {
   "cell_type": "code",
   "execution_count": 78,
   "metadata": {},
   "outputs": [
    {
     "name": "stdout",
     "output_type": "stream",
     "text": [
      "Persen individu yang menerima kedua vaksin: 17.587%\n",
      "Person individu yang tidak menerima kedua vaksin sama sekali: 49.781%\n",
      "Persen individu yang mendapatkan vaksin H1N1 namun tidak mendapatkan vaksin flu biasa: 3.658%\n",
      "Persen individu yang mendapatkan vaksin flu biasa namun tidak mendapatkan vaksin H1N1: 28.974%\n"
     ]
    }
   ],
   "source": [
    "print(f\"Persen individu yang menerima kedua vaksin: {round(tab.iloc[1, 1] * 100/ sum(tab.sum()), 3)}%\")\n",
    "print(f\"Person individu yang tidak menerima kedua vaksin sama sekali: {round(tab.iloc[0, 0] * 100/ sum(tab.sum()), 3)}%\")\n",
    "print(f\"Persen individu yang mendapatkan vaksin H1N1 namun tidak mendapatkan vaksin flu biasa: {round(tab.iloc[1, 0] * 100/ sum(tab.sum()), 3)}%\")\n",
    "print(f\"Persen individu yang mendapatkan vaksin flu biasa namun tidak mendapatkan vaksin H1N1: {round(tab.iloc[0, 1] * 100/ sum(tab.sum()), 3)}%\")"
   ]
  },
  {
   "cell_type": "markdown",
   "metadata": {},
   "source": [
    "Dari angka di atas, kita dapat melihat bahwa hampir setengah dari responden tidak menerima vaksin sama sekali. Proporsi yang cukup besar ada pada mereka yang mendapatkan vaksin flu biasa namun tak mendapatkan vaksin H1N1 yaitu sebesar +/- 29% dari keseluruhan responden. \n",
    "\n",
    "Karena ada tiga kategori yang memiliki proporsi cukup signifikan, maka kita dapat membagi data dari ketiga kategori ini dan melihat apakah ada tren dan pola yang berarti untuk menjelaskan ketiga kategori ini. Berikut adalah tiga kategori tersebut:\n",
    "\n",
    "- Mereka yang menerima kedua vaksin\n",
    "- Mereka yang tidak menerima kedia vaksin\n",
    "- Mereka yang menerima vaksin flu namun tidak menerima vaksin H1N1"
   ]
  },
  {
   "cell_type": "markdown",
   "metadata": {},
   "source": [
    "Pertanyaan 1: Apakah orang/mereka/individu yang memiliki anak memiliki peluang/kemungkinan lebih besar untuk mendapatkan vaksin, baik vaksin H1N1 maupun vaksin flu?"
   ]
  },
  {
   "cell_type": "markdown",
   "metadata": {},
   "source": [
    "Mari kita analisa korelasi jumlah anak dengan menerima vaksin H1N1 terlebih dahulu."
   ]
  },
  {
   "cell_type": "code",
   "execution_count": 79,
   "metadata": {},
   "outputs": [
    {
     "data": {
      "text/plain": [
       "0.0    18672\n",
       "1.0     3175\n",
       "2.0     2864\n",
       "3.0     1747\n",
       "Name: household_children, dtype: int64"
      ]
     },
     "execution_count": 79,
     "metadata": {},
     "output_type": "execute_result"
    }
   ],
   "source": [
    "train[\"household_children\"].value_counts()"
   ]
  },
  {
   "cell_type": "code",
   "execution_count": 80,
   "metadata": {},
   "outputs": [
    {
     "data": {
      "text/html": [
       "<div>\n",
       "<style scoped>\n",
       "    .dataframe tbody tr th:only-of-type {\n",
       "        vertical-align: middle;\n",
       "    }\n",
       "\n",
       "    .dataframe tbody tr th {\n",
       "        vertical-align: top;\n",
       "    }\n",
       "\n",
       "    .dataframe thead th {\n",
       "        text-align: right;\n",
       "    }\n",
       "</style>\n",
       "<table border=\"1\" class=\"dataframe\">\n",
       "  <thead>\n",
       "    <tr style=\"text-align: right;\">\n",
       "      <th>h1n1_vaccine</th>\n",
       "      <th>0</th>\n",
       "      <th>1</th>\n",
       "    </tr>\n",
       "    <tr>\n",
       "      <th>household_children</th>\n",
       "      <th></th>\n",
       "      <th></th>\n",
       "    </tr>\n",
       "  </thead>\n",
       "  <tbody>\n",
       "    <tr>\n",
       "      <th>0.0</th>\n",
       "      <td>14689</td>\n",
       "      <td>3983</td>\n",
       "    </tr>\n",
       "    <tr>\n",
       "      <th>1.0</th>\n",
       "      <td>2501</td>\n",
       "      <td>674</td>\n",
       "    </tr>\n",
       "    <tr>\n",
       "      <th>2.0</th>\n",
       "      <td>2235</td>\n",
       "      <td>629</td>\n",
       "    </tr>\n",
       "    <tr>\n",
       "      <th>3.0</th>\n",
       "      <td>1398</td>\n",
       "      <td>349</td>\n",
       "    </tr>\n",
       "  </tbody>\n",
       "</table>\n",
       "</div>"
      ],
      "text/plain": [
       "h1n1_vaccine            0     1\n",
       "household_children             \n",
       "0.0                 14689  3983\n",
       "1.0                  2501   674\n",
       "2.0                  2235   629\n",
       "3.0                  1398   349"
      ]
     },
     "execution_count": 80,
     "metadata": {},
     "output_type": "execute_result"
    }
   ],
   "source": [
    "pd.crosstab(train['household_children'], train_labels['h1n1_vaccine'])"
   ]
  },
  {
   "cell_type": "code",
   "execution_count": 81,
   "metadata": {},
   "outputs": [
    {
     "data": {
      "text/html": [
       "<div>\n",
       "<style scoped>\n",
       "    .dataframe tbody tr th:only-of-type {\n",
       "        vertical-align: middle;\n",
       "    }\n",
       "\n",
       "    .dataframe tbody tr th {\n",
       "        vertical-align: top;\n",
       "    }\n",
       "\n",
       "    .dataframe thead th {\n",
       "        text-align: right;\n",
       "    }\n",
       "</style>\n",
       "<table border=\"1\" class=\"dataframe\">\n",
       "  <thead>\n",
       "    <tr style=\"text-align: right;\">\n",
       "      <th>h1n1_vaccine</th>\n",
       "      <th>0</th>\n",
       "      <th>1</th>\n",
       "      <th>All</th>\n",
       "    </tr>\n",
       "    <tr>\n",
       "      <th>household_children</th>\n",
       "      <th></th>\n",
       "      <th></th>\n",
       "      <th></th>\n",
       "    </tr>\n",
       "  </thead>\n",
       "  <tbody>\n",
       "    <tr>\n",
       "      <th>0.0</th>\n",
       "      <td>0.555182</td>\n",
       "      <td>0.150540</td>\n",
       "      <td>0.705722</td>\n",
       "    </tr>\n",
       "    <tr>\n",
       "      <th>1.0</th>\n",
       "      <td>0.094527</td>\n",
       "      <td>0.025474</td>\n",
       "      <td>0.120002</td>\n",
       "    </tr>\n",
       "    <tr>\n",
       "      <th>2.0</th>\n",
       "      <td>0.084474</td>\n",
       "      <td>0.023774</td>\n",
       "      <td>0.108247</td>\n",
       "    </tr>\n",
       "    <tr>\n",
       "      <th>3.0</th>\n",
       "      <td>0.052838</td>\n",
       "      <td>0.013191</td>\n",
       "      <td>0.066029</td>\n",
       "    </tr>\n",
       "    <tr>\n",
       "      <th>All</th>\n",
       "      <td>0.787021</td>\n",
       "      <td>0.212979</td>\n",
       "      <td>1.000000</td>\n",
       "    </tr>\n",
       "  </tbody>\n",
       "</table>\n",
       "</div>"
      ],
      "text/plain": [
       "h1n1_vaccine               0         1       All\n",
       "household_children                              \n",
       "0.0                 0.555182  0.150540  0.705722\n",
       "1.0                 0.094527  0.025474  0.120002\n",
       "2.0                 0.084474  0.023774  0.108247\n",
       "3.0                 0.052838  0.013191  0.066029\n",
       "All                 0.787021  0.212979  1.000000"
      ]
     },
     "execution_count": 81,
     "metadata": {},
     "output_type": "execute_result"
    }
   ],
   "source": [
    "tab = pd.crosstab(train['household_children'], train_labels['h1n1_vaccine'],\n",
    "                 margins=True, normalize=True)\n",
    "\n",
    "tab"
   ]
  },
  {
   "cell_type": "code",
   "execution_count": 82,
   "metadata": {},
   "outputs": [],
   "source": [
    "tab['prop_rec_med'] = tab[1] / (tab[1] + tab[0])"
   ]
  },
  {
   "cell_type": "code",
   "execution_count": 83,
   "metadata": {
    "scrolled": true
   },
   "outputs": [
    {
     "data": {
      "text/html": [
       "<div>\n",
       "<style scoped>\n",
       "    .dataframe tbody tr th:only-of-type {\n",
       "        vertical-align: middle;\n",
       "    }\n",
       "\n",
       "    .dataframe tbody tr th {\n",
       "        vertical-align: top;\n",
       "    }\n",
       "\n",
       "    .dataframe thead th {\n",
       "        text-align: right;\n",
       "    }\n",
       "</style>\n",
       "<table border=\"1\" class=\"dataframe\">\n",
       "  <thead>\n",
       "    <tr style=\"text-align: right;\">\n",
       "      <th>h1n1_vaccine</th>\n",
       "      <th>0</th>\n",
       "      <th>1</th>\n",
       "      <th>All</th>\n",
       "      <th>prop_rec_med</th>\n",
       "    </tr>\n",
       "    <tr>\n",
       "      <th>household_children</th>\n",
       "      <th></th>\n",
       "      <th></th>\n",
       "      <th></th>\n",
       "      <th></th>\n",
       "    </tr>\n",
       "  </thead>\n",
       "  <tbody>\n",
       "    <tr>\n",
       "      <th>0.0</th>\n",
       "      <td>0.555182</td>\n",
       "      <td>0.150540</td>\n",
       "      <td>0.705722</td>\n",
       "      <td>0.213314</td>\n",
       "    </tr>\n",
       "    <tr>\n",
       "      <th>1.0</th>\n",
       "      <td>0.094527</td>\n",
       "      <td>0.025474</td>\n",
       "      <td>0.120002</td>\n",
       "      <td>0.212283</td>\n",
       "    </tr>\n",
       "    <tr>\n",
       "      <th>2.0</th>\n",
       "      <td>0.084474</td>\n",
       "      <td>0.023774</td>\n",
       "      <td>0.108247</td>\n",
       "      <td>0.219623</td>\n",
       "    </tr>\n",
       "    <tr>\n",
       "      <th>3.0</th>\n",
       "      <td>0.052838</td>\n",
       "      <td>0.013191</td>\n",
       "      <td>0.066029</td>\n",
       "      <td>0.199771</td>\n",
       "    </tr>\n",
       "    <tr>\n",
       "      <th>All</th>\n",
       "      <td>0.787021</td>\n",
       "      <td>0.212979</td>\n",
       "      <td>1.000000</td>\n",
       "      <td>0.212979</td>\n",
       "    </tr>\n",
       "  </tbody>\n",
       "</table>\n",
       "</div>"
      ],
      "text/plain": [
       "h1n1_vaccine               0         1       All  prop_rec_med\n",
       "household_children                                            \n",
       "0.0                 0.555182  0.150540  0.705722      0.213314\n",
       "1.0                 0.094527  0.025474  0.120002      0.212283\n",
       "2.0                 0.084474  0.023774  0.108247      0.219623\n",
       "3.0                 0.052838  0.013191  0.066029      0.199771\n",
       "All                 0.787021  0.212979  1.000000      0.212979"
      ]
     },
     "execution_count": 83,
     "metadata": {},
     "output_type": "execute_result"
    }
   ],
   "source": [
    "tab"
   ]
  },
  {
   "cell_type": "markdown",
   "metadata": {},
   "source": [
    "Kita lakukan plot terhadap tiap-tiap kategori jumlah anak, berapa proporsi dari mereka yang menerima dan tidak menerima vaksin. Agar terlihat perbedaan proporsi dari tiap-tiap kategori, kita masukkan kolom proporsi yang telah dibuat pada bagian sebelumnya."
   ]
  },
  {
   "cell_type": "code",
   "execution_count": 84,
   "metadata": {
    "scrolled": false
   },
   "outputs": [
    {
     "data": {
      "image/png": "[encoded data removed]",
      "text/plain": [
       "<Figure size 432x288 with 1 Axes>"
      ]
     },
     "metadata": {},
     "output_type": "display_data"
    }
   ],
   "source": [
    "tab[[0,1,'prop_rec_med']].plot(kind=\"bar\")\n",
    "plt.show()"
   ]
  },
  {
   "cell_type": "markdown",
   "metadata": {},
   "source": [
    "Dapat terlihat pada grafik di atas bahwa proporsi mereka yang menerima vaksin H1N1 relatif konsisten di masing-masing kategori jumlah anak pada tiap keluarga. Ini menandakan bahwa tidak ada korelasi antara mereka yang mendapatkan vaksin H1N1 dengan jumlah anak yang dimiliki."
   ]
  },
  {
   "cell_type": "markdown",
   "metadata": {},
   "source": [
    "Sekarang, kita akan menganalisa korelasi jumlah anak dengan penerima vaksin flu."
   ]
  },
  {
   "cell_type": "code",
   "execution_count": 85,
   "metadata": {},
   "outputs": [
    {
     "data": {
      "text/html": [
       "<div>\n",
       "<style scoped>\n",
       "    .dataframe tbody tr th:only-of-type {\n",
       "        vertical-align: middle;\n",
       "    }\n",
       "\n",
       "    .dataframe tbody tr th {\n",
       "        vertical-align: top;\n",
       "    }\n",
       "\n",
       "    .dataframe thead th {\n",
       "        text-align: right;\n",
       "    }\n",
       "</style>\n",
       "<table border=\"1\" class=\"dataframe\">\n",
       "  <thead>\n",
       "    <tr style=\"text-align: right;\">\n",
       "      <th>seasonal_vaccine</th>\n",
       "      <th>0</th>\n",
       "      <th>1</th>\n",
       "    </tr>\n",
       "    <tr>\n",
       "      <th>household_children</th>\n",
       "      <th></th>\n",
       "      <th></th>\n",
       "    </tr>\n",
       "  </thead>\n",
       "  <tbody>\n",
       "    <tr>\n",
       "      <th>0.0</th>\n",
       "      <td>9217</td>\n",
       "      <td>9455</td>\n",
       "    </tr>\n",
       "    <tr>\n",
       "      <th>1.0</th>\n",
       "      <td>1953</td>\n",
       "      <td>1222</td>\n",
       "    </tr>\n",
       "    <tr>\n",
       "      <th>2.0</th>\n",
       "      <td>1769</td>\n",
       "      <td>1095</td>\n",
       "    </tr>\n",
       "    <tr>\n",
       "      <th>3.0</th>\n",
       "      <td>1148</td>\n",
       "      <td>599</td>\n",
       "    </tr>\n",
       "  </tbody>\n",
       "</table>\n",
       "</div>"
      ],
      "text/plain": [
       "seasonal_vaccine       0     1\n",
       "household_children            \n",
       "0.0                 9217  9455\n",
       "1.0                 1953  1222\n",
       "2.0                 1769  1095\n",
       "3.0                 1148   599"
      ]
     },
     "execution_count": 85,
     "metadata": {},
     "output_type": "execute_result"
    }
   ],
   "source": [
    "pd.crosstab(train['household_children'], train_labels['seasonal_vaccine'])"
   ]
  },
  {
   "cell_type": "code",
   "execution_count": 86,
   "metadata": {},
   "outputs": [
    {
     "data": {
      "text/html": [
       "<div>\n",
       "<style scoped>\n",
       "    .dataframe tbody tr th:only-of-type {\n",
       "        vertical-align: middle;\n",
       "    }\n",
       "\n",
       "    .dataframe tbody tr th {\n",
       "        vertical-align: top;\n",
       "    }\n",
       "\n",
       "    .dataframe thead th {\n",
       "        text-align: right;\n",
       "    }\n",
       "</style>\n",
       "<table border=\"1\" class=\"dataframe\">\n",
       "  <thead>\n",
       "    <tr style=\"text-align: right;\">\n",
       "      <th>seasonal_vaccine</th>\n",
       "      <th>0</th>\n",
       "      <th>1</th>\n",
       "      <th>All</th>\n",
       "    </tr>\n",
       "    <tr>\n",
       "      <th>household_children</th>\n",
       "      <th></th>\n",
       "      <th></th>\n",
       "      <th></th>\n",
       "    </tr>\n",
       "  </thead>\n",
       "  <tbody>\n",
       "    <tr>\n",
       "      <th>0.0</th>\n",
       "      <td>0.348363</td>\n",
       "      <td>0.357359</td>\n",
       "      <td>0.705722</td>\n",
       "    </tr>\n",
       "    <tr>\n",
       "      <th>1.0</th>\n",
       "      <td>0.073815</td>\n",
       "      <td>0.046186</td>\n",
       "      <td>0.120002</td>\n",
       "    </tr>\n",
       "    <tr>\n",
       "      <th>2.0</th>\n",
       "      <td>0.066861</td>\n",
       "      <td>0.041386</td>\n",
       "      <td>0.108247</td>\n",
       "    </tr>\n",
       "    <tr>\n",
       "      <th>3.0</th>\n",
       "      <td>0.043390</td>\n",
       "      <td>0.022640</td>\n",
       "      <td>0.066029</td>\n",
       "    </tr>\n",
       "    <tr>\n",
       "      <th>All</th>\n",
       "      <td>0.532429</td>\n",
       "      <td>0.467571</td>\n",
       "      <td>1.000000</td>\n",
       "    </tr>\n",
       "  </tbody>\n",
       "</table>\n",
       "</div>"
      ],
      "text/plain": [
       "seasonal_vaccine           0         1       All\n",
       "household_children                              \n",
       "0.0                 0.348363  0.357359  0.705722\n",
       "1.0                 0.073815  0.046186  0.120002\n",
       "2.0                 0.066861  0.041386  0.108247\n",
       "3.0                 0.043390  0.022640  0.066029\n",
       "All                 0.532429  0.467571  1.000000"
      ]
     },
     "execution_count": 86,
     "metadata": {},
     "output_type": "execute_result"
    }
   ],
   "source": [
    "tab_flu = pd.crosstab(train['household_children'], train_labels['seasonal_vaccine'],\n",
    "                 margins=True, normalize=True)\n",
    "\n",
    "tab_flu"
   ]
  },
  {
   "cell_type": "code",
   "execution_count": 87,
   "metadata": {},
   "outputs": [],
   "source": [
    "tab_flu['prop_rec_med'] = tab_flu[1] / (tab_flu[1] + tab_flu[0])"
   ]
  },
  {
   "cell_type": "code",
   "execution_count": 88,
   "metadata": {},
   "outputs": [
    {
     "data": {
      "text/html": [
       "<div>\n",
       "<style scoped>\n",
       "    .dataframe tbody tr th:only-of-type {\n",
       "        vertical-align: middle;\n",
       "    }\n",
       "\n",
       "    .dataframe tbody tr th {\n",
       "        vertical-align: top;\n",
       "    }\n",
       "\n",
       "    .dataframe thead th {\n",
       "        text-align: right;\n",
       "    }\n",
       "</style>\n",
       "<table border=\"1\" class=\"dataframe\">\n",
       "  <thead>\n",
       "    <tr style=\"text-align: right;\">\n",
       "      <th>seasonal_vaccine</th>\n",
       "      <th>0</th>\n",
       "      <th>1</th>\n",
       "      <th>All</th>\n",
       "      <th>prop_rec_med</th>\n",
       "    </tr>\n",
       "    <tr>\n",
       "      <th>household_children</th>\n",
       "      <th></th>\n",
       "      <th></th>\n",
       "      <th></th>\n",
       "      <th></th>\n",
       "    </tr>\n",
       "  </thead>\n",
       "  <tbody>\n",
       "    <tr>\n",
       "      <th>0.0</th>\n",
       "      <td>0.348363</td>\n",
       "      <td>0.357359</td>\n",
       "      <td>0.705722</td>\n",
       "      <td>0.506373</td>\n",
       "    </tr>\n",
       "    <tr>\n",
       "      <th>1.0</th>\n",
       "      <td>0.073815</td>\n",
       "      <td>0.046186</td>\n",
       "      <td>0.120002</td>\n",
       "      <td>0.384882</td>\n",
       "    </tr>\n",
       "    <tr>\n",
       "      <th>2.0</th>\n",
       "      <td>0.066861</td>\n",
       "      <td>0.041386</td>\n",
       "      <td>0.108247</td>\n",
       "      <td>0.382332</td>\n",
       "    </tr>\n",
       "    <tr>\n",
       "      <th>3.0</th>\n",
       "      <td>0.043390</td>\n",
       "      <td>0.022640</td>\n",
       "      <td>0.066029</td>\n",
       "      <td>0.342873</td>\n",
       "    </tr>\n",
       "    <tr>\n",
       "      <th>All</th>\n",
       "      <td>0.532429</td>\n",
       "      <td>0.467571</td>\n",
       "      <td>1.000000</td>\n",
       "      <td>0.467571</td>\n",
       "    </tr>\n",
       "  </tbody>\n",
       "</table>\n",
       "</div>"
      ],
      "text/plain": [
       "seasonal_vaccine           0         1       All  prop_rec_med\n",
       "household_children                                            \n",
       "0.0                 0.348363  0.357359  0.705722      0.506373\n",
       "1.0                 0.073815  0.046186  0.120002      0.384882\n",
       "2.0                 0.066861  0.041386  0.108247      0.382332\n",
       "3.0                 0.043390  0.022640  0.066029      0.342873\n",
       "All                 0.532429  0.467571  1.000000      0.467571"
      ]
     },
     "execution_count": 88,
     "metadata": {},
     "output_type": "execute_result"
    }
   ],
   "source": [
    "tab_flu"
   ]
  },
  {
   "cell_type": "code",
   "execution_count": 89,
   "metadata": {},
   "outputs": [
    {
     "data": {
      "image/png": "[encoded data removed]",
      "text/plain": [
       "<Figure size 432x288 with 1 Axes>"
      ]
     },
     "metadata": {},
     "output_type": "display_data"
    }
   ],
   "source": [
    "tab_flu[[0,1,'prop_rec_med']].plot(kind=\"bar\")\n",
    "plt.show()"
   ]
  },
  {
   "cell_type": "markdown",
   "metadata": {},
   "source": [
    "Tampak dari hasil grafik di atas ini bahwa ada korelasi antara jumlah anak dan mereka yang mendapatkan vaksin. Dari pengamatan terhadap grafik, semakin sedikit anak yang dimiliki maka kemungkinan menerima vaksin juga semakin tinggi. Mereka yang memiliki anak lebih sedikit mempunyai proporsi yang lebih besar dalam penerimaan vaksin.\n",
    "\n",
    "Dari dua hasil di atas, sangatlah aneh untuk melihat adanya perbedaan antara mereka yang menerima vaksin H1N1 dan vaksin flu, terutama mengenai tidak adanya korelasi antara jumlah anak dengan penerima vaksin H1N1. Hal ini tampak bertentangan dengan penelitian dan berita terdahulu yang memberitakan/menginformasikan bahwa seseorang akan lebih berpeluang mendapatkan vaksin jika di dalam rumah/dalam keluarga mereka ada orang-orang tua dan anak-anak, yang termasuk dalam kategori umur dengan risiko terpapar paling tinggi. Mungkin saja hasil pengamatan kita di atas dipengaruhi juga oleh variabel lain, hal yang harus kita cari tahu lebih lanjut."
   ]
  },
  {
   "cell_type": "markdown",
   "metadata": {},
   "source": [
    "Pertanyaan 2: Bagaimana rasio penerimaan vaksin terhadap umur?"
   ]
  },
  {
   "cell_type": "markdown",
   "metadata": {},
   "source": [
    "Dari literatur-literatur terdahulu yang meneliti kelompok umur mana saja yang diutamakan mendapatkan vaksin, maka orang-orang tua termasuk dalam kategori mereka yang diutamakan untuk mendapatkan vaksin, dibandingkan dengan kelompok umur lainnya. Semakin tua seseorang, semakin berpeluang besar untuk menerima vaksin."
   ]
  },
  {
   "cell_type": "markdown",
   "metadata": {},
   "source": [
    "Mari kita lakukan analisa korelasi antara umur dan kemungkinan menerima vaksin. Namun, hasil ini mungkin tidak bisa langsung disimpulkan begitu saja karena mungkin saja ada variabel-variabel lain yang mempengaruhi, seperti kondisi/penyakit bawaan dan faktor-faktor lainnya.\n",
    "\n",
    "Mari kita lakukan analisa terhadap vaksin H1N1 terlebih dahulu."
   ]
  },
  {
   "cell_type": "code",
   "execution_count": 90,
   "metadata": {},
   "outputs": [
    {
     "data": {
      "text/html": [
       "<div>\n",
       "<style scoped>\n",
       "    .dataframe tbody tr th:only-of-type {\n",
       "        vertical-align: middle;\n",
       "    }\n",
       "\n",
       "    .dataframe tbody tr th {\n",
       "        vertical-align: top;\n",
       "    }\n",
       "\n",
       "    .dataframe thead th {\n",
       "        text-align: right;\n",
       "    }\n",
       "</style>\n",
       "<table border=\"1\" class=\"dataframe\">\n",
       "  <thead>\n",
       "    <tr style=\"text-align: right;\">\n",
       "      <th>h1n1_vaccine</th>\n",
       "      <th>0</th>\n",
       "      <th>1</th>\n",
       "    </tr>\n",
       "    <tr>\n",
       "      <th>age_group</th>\n",
       "      <th></th>\n",
       "      <th></th>\n",
       "    </tr>\n",
       "  </thead>\n",
       "  <tbody>\n",
       "    <tr>\n",
       "      <th>18 - 34 Years</th>\n",
       "      <td>4224</td>\n",
       "      <td>991</td>\n",
       "    </tr>\n",
       "    <tr>\n",
       "      <th>35 - 44 Years</th>\n",
       "      <td>3087</td>\n",
       "      <td>761</td>\n",
       "    </tr>\n",
       "    <tr>\n",
       "      <th>45 - 54 Years</th>\n",
       "      <td>4218</td>\n",
       "      <td>1020</td>\n",
       "    </tr>\n",
       "    <tr>\n",
       "      <th>55 - 64 Years</th>\n",
       "      <td>4212</td>\n",
       "      <td>1351</td>\n",
       "    </tr>\n",
       "    <tr>\n",
       "      <th>65+ Years</th>\n",
       "      <td>5292</td>\n",
       "      <td>1551</td>\n",
       "    </tr>\n",
       "  </tbody>\n",
       "</table>\n",
       "</div>"
      ],
      "text/plain": [
       "h1n1_vaccine      0     1\n",
       "age_group                \n",
       "18 - 34 Years  4224   991\n",
       "35 - 44 Years  3087   761\n",
       "45 - 54 Years  4218  1020\n",
       "55 - 64 Years  4212  1351\n",
       "65+ Years      5292  1551"
      ]
     },
     "execution_count": 90,
     "metadata": {},
     "output_type": "execute_result"
    }
   ],
   "source": [
    "pd.crosstab(train['age_group'], train_labels['h1n1_vaccine'])"
   ]
  },
  {
   "cell_type": "code",
   "execution_count": 91,
   "metadata": {},
   "outputs": [],
   "source": [
    "tab_age_h1n1 = pd.crosstab(train['age_group'], train_labels['h1n1_vaccine'],\n",
    "                          margins=True, normalize=True)"
   ]
  },
  {
   "cell_type": "code",
   "execution_count": 92,
   "metadata": {},
   "outputs": [
    {
     "data": {
      "text/html": [
       "<div>\n",
       "<style scoped>\n",
       "    .dataframe tbody tr th:only-of-type {\n",
       "        vertical-align: middle;\n",
       "    }\n",
       "\n",
       "    .dataframe tbody tr th {\n",
       "        vertical-align: top;\n",
       "    }\n",
       "\n",
       "    .dataframe thead th {\n",
       "        text-align: right;\n",
       "    }\n",
       "</style>\n",
       "<table border=\"1\" class=\"dataframe\">\n",
       "  <thead>\n",
       "    <tr style=\"text-align: right;\">\n",
       "      <th>h1n1_vaccine</th>\n",
       "      <th>0</th>\n",
       "      <th>1</th>\n",
       "      <th>All</th>\n",
       "    </tr>\n",
       "    <tr>\n",
       "      <th>age_group</th>\n",
       "      <th></th>\n",
       "      <th></th>\n",
       "      <th></th>\n",
       "    </tr>\n",
       "  </thead>\n",
       "  <tbody>\n",
       "    <tr>\n",
       "      <th>18 - 34 Years</th>\n",
       "      <td>0.158161</td>\n",
       "      <td>0.037106</td>\n",
       "      <td>0.195267</td>\n",
       "    </tr>\n",
       "    <tr>\n",
       "      <th>35 - 44 Years</th>\n",
       "      <td>0.115588</td>\n",
       "      <td>0.028494</td>\n",
       "      <td>0.144082</td>\n",
       "    </tr>\n",
       "    <tr>\n",
       "      <th>45 - 54 Years</th>\n",
       "      <td>0.157936</td>\n",
       "      <td>0.038192</td>\n",
       "      <td>0.196128</td>\n",
       "    </tr>\n",
       "    <tr>\n",
       "      <th>55 - 64 Years</th>\n",
       "      <td>0.157711</td>\n",
       "      <td>0.050586</td>\n",
       "      <td>0.208297</td>\n",
       "    </tr>\n",
       "    <tr>\n",
       "      <th>65+ Years</th>\n",
       "      <td>0.198150</td>\n",
       "      <td>0.058075</td>\n",
       "      <td>0.256225</td>\n",
       "    </tr>\n",
       "    <tr>\n",
       "      <th>All</th>\n",
       "      <td>0.787546</td>\n",
       "      <td>0.212454</td>\n",
       "      <td>1.000000</td>\n",
       "    </tr>\n",
       "  </tbody>\n",
       "</table>\n",
       "</div>"
      ],
      "text/plain": [
       "h1n1_vaccine          0         1       All\n",
       "age_group                                  \n",
       "18 - 34 Years  0.158161  0.037106  0.195267\n",
       "35 - 44 Years  0.115588  0.028494  0.144082\n",
       "45 - 54 Years  0.157936  0.038192  0.196128\n",
       "55 - 64 Years  0.157711  0.050586  0.208297\n",
       "65+ Years      0.198150  0.058075  0.256225\n",
       "All            0.787546  0.212454  1.000000"
      ]
     },
     "execution_count": 92,
     "metadata": {},
     "output_type": "execute_result"
    }
   ],
   "source": [
    "tab_age_h1n1"
   ]
  },
  {
   "cell_type": "code",
   "execution_count": 93,
   "metadata": {},
   "outputs": [],
   "source": [
    "tab_age_h1n1['prop_rec_med'] = tab_age_h1n1[1] / (tab_age_h1n1[1] + tab_age_h1n1[0])"
   ]
  },
  {
   "cell_type": "code",
   "execution_count": 94,
   "metadata": {},
   "outputs": [
    {
     "data": {
      "text/html": [
       "<div>\n",
       "<style scoped>\n",
       "    .dataframe tbody tr th:only-of-type {\n",
       "        vertical-align: middle;\n",
       "    }\n",
       "\n",
       "    .dataframe tbody tr th {\n",
       "        vertical-align: top;\n",
       "    }\n",
       "\n",
       "    .dataframe thead th {\n",
       "        text-align: right;\n",
       "    }\n",
       "</style>\n",
       "<table border=\"1\" class=\"dataframe\">\n",
       "  <thead>\n",
       "    <tr style=\"text-align: right;\">\n",
       "      <th>h1n1_vaccine</th>\n",
       "      <th>0</th>\n",
       "      <th>1</th>\n",
       "      <th>All</th>\n",
       "      <th>prop_rec_med</th>\n",
       "    </tr>\n",
       "    <tr>\n",
       "      <th>age_group</th>\n",
       "      <th></th>\n",
       "      <th></th>\n",
       "      <th></th>\n",
       "      <th></th>\n",
       "    </tr>\n",
       "  </thead>\n",
       "  <tbody>\n",
       "    <tr>\n",
       "      <th>18 - 34 Years</th>\n",
       "      <td>0.158161</td>\n",
       "      <td>0.037106</td>\n",
       "      <td>0.195267</td>\n",
       "      <td>0.190029</td>\n",
       "    </tr>\n",
       "    <tr>\n",
       "      <th>35 - 44 Years</th>\n",
       "      <td>0.115588</td>\n",
       "      <td>0.028494</td>\n",
       "      <td>0.144082</td>\n",
       "      <td>0.197765</td>\n",
       "    </tr>\n",
       "    <tr>\n",
       "      <th>45 - 54 Years</th>\n",
       "      <td>0.157936</td>\n",
       "      <td>0.038192</td>\n",
       "      <td>0.196128</td>\n",
       "      <td>0.194731</td>\n",
       "    </tr>\n",
       "    <tr>\n",
       "      <th>55 - 64 Years</th>\n",
       "      <td>0.157711</td>\n",
       "      <td>0.050586</td>\n",
       "      <td>0.208297</td>\n",
       "      <td>0.242855</td>\n",
       "    </tr>\n",
       "    <tr>\n",
       "      <th>65+ Years</th>\n",
       "      <td>0.198150</td>\n",
       "      <td>0.058075</td>\n",
       "      <td>0.256225</td>\n",
       "      <td>0.226655</td>\n",
       "    </tr>\n",
       "    <tr>\n",
       "      <th>All</th>\n",
       "      <td>0.787546</td>\n",
       "      <td>0.212454</td>\n",
       "      <td>1.000000</td>\n",
       "      <td>0.212454</td>\n",
       "    </tr>\n",
       "  </tbody>\n",
       "</table>\n",
       "</div>"
      ],
      "text/plain": [
       "h1n1_vaccine          0         1       All  prop_rec_med\n",
       "age_group                                                \n",
       "18 - 34 Years  0.158161  0.037106  0.195267      0.190029\n",
       "35 - 44 Years  0.115588  0.028494  0.144082      0.197765\n",
       "45 - 54 Years  0.157936  0.038192  0.196128      0.194731\n",
       "55 - 64 Years  0.157711  0.050586  0.208297      0.242855\n",
       "65+ Years      0.198150  0.058075  0.256225      0.226655\n",
       "All            0.787546  0.212454  1.000000      0.212454"
      ]
     },
     "execution_count": 94,
     "metadata": {},
     "output_type": "execute_result"
    }
   ],
   "source": [
    "tab_age_h1n1"
   ]
  },
  {
   "cell_type": "code",
   "execution_count": 95,
   "metadata": {
    "scrolled": true
   },
   "outputs": [
    {
     "data": {
      "image/png": "[encoded data removed]",
      "text/plain": [
       "<Figure size 432x288 with 1 Axes>"
      ]
     },
     "metadata": {},
     "output_type": "display_data"
    }
   ],
   "source": [
    "tab_age_h1n1[[0,1,'prop_rec_med']].plot(kind=\"bar\")\n",
    "plt.show()"
   ]
  },
  {
   "cell_type": "markdown",
   "metadata": {},
   "source": [
    "Dari grafik di atas tampak bahwa kategori umur tidak memiliki pengaruh terhadup kemungkinan seseorang menerima vaksin. Di setiap kategori, proporsi penerima vaksin tampak datar di angka 20-25%.\n",
    "\n",
    "Mari kita bandingkan dengan analisa terhadap vaksin flu."
   ]
  },
  {
   "cell_type": "code",
   "execution_count": 96,
   "metadata": {},
   "outputs": [
    {
     "data": {
      "text/html": [
       "<div>\n",
       "<style scoped>\n",
       "    .dataframe tbody tr th:only-of-type {\n",
       "        vertical-align: middle;\n",
       "    }\n",
       "\n",
       "    .dataframe tbody tr th {\n",
       "        vertical-align: top;\n",
       "    }\n",
       "\n",
       "    .dataframe thead th {\n",
       "        text-align: right;\n",
       "    }\n",
       "</style>\n",
       "<table border=\"1\" class=\"dataframe\">\n",
       "  <thead>\n",
       "    <tr style=\"text-align: right;\">\n",
       "      <th>seasonal_vaccine</th>\n",
       "      <th>0</th>\n",
       "      <th>1</th>\n",
       "    </tr>\n",
       "    <tr>\n",
       "      <th>age_group</th>\n",
       "      <th></th>\n",
       "      <th></th>\n",
       "    </tr>\n",
       "  </thead>\n",
       "  <tbody>\n",
       "    <tr>\n",
       "      <th>18 - 34 Years</th>\n",
       "      <td>3731</td>\n",
       "      <td>1484</td>\n",
       "    </tr>\n",
       "    <tr>\n",
       "      <th>35 - 44 Years</th>\n",
       "      <td>2453</td>\n",
       "      <td>1395</td>\n",
       "    </tr>\n",
       "    <tr>\n",
       "      <th>45 - 54 Years</th>\n",
       "      <td>3136</td>\n",
       "      <td>2102</td>\n",
       "    </tr>\n",
       "    <tr>\n",
       "      <th>55 - 64 Years</th>\n",
       "      <td>2719</td>\n",
       "      <td>2844</td>\n",
       "    </tr>\n",
       "    <tr>\n",
       "      <th>65+ Years</th>\n",
       "      <td>2233</td>\n",
       "      <td>4610</td>\n",
       "    </tr>\n",
       "  </tbody>\n",
       "</table>\n",
       "</div>"
      ],
      "text/plain": [
       "seasonal_vaccine     0     1\n",
       "age_group                   \n",
       "18 - 34 Years     3731  1484\n",
       "35 - 44 Years     2453  1395\n",
       "45 - 54 Years     3136  2102\n",
       "55 - 64 Years     2719  2844\n",
       "65+ Years         2233  4610"
      ]
     },
     "execution_count": 96,
     "metadata": {},
     "output_type": "execute_result"
    }
   ],
   "source": [
    "pd.crosstab(train['age_group'], train_labels['seasonal_vaccine'])"
   ]
  },
  {
   "cell_type": "code",
   "execution_count": 97,
   "metadata": {},
   "outputs": [],
   "source": [
    "tab_age_flu = pd.crosstab(train['age_group'], train_labels['seasonal_vaccine'],\n",
    "                          margins=True, normalize=True)"
   ]
  },
  {
   "cell_type": "code",
   "execution_count": 98,
   "metadata": {},
   "outputs": [
    {
     "data": {
      "text/html": [
       "<div>\n",
       "<style scoped>\n",
       "    .dataframe tbody tr th:only-of-type {\n",
       "        vertical-align: middle;\n",
       "    }\n",
       "\n",
       "    .dataframe tbody tr th {\n",
       "        vertical-align: top;\n",
       "    }\n",
       "\n",
       "    .dataframe thead th {\n",
       "        text-align: right;\n",
       "    }\n",
       "</style>\n",
       "<table border=\"1\" class=\"dataframe\">\n",
       "  <thead>\n",
       "    <tr style=\"text-align: right;\">\n",
       "      <th>seasonal_vaccine</th>\n",
       "      <th>0</th>\n",
       "      <th>1</th>\n",
       "      <th>All</th>\n",
       "    </tr>\n",
       "    <tr>\n",
       "      <th>age_group</th>\n",
       "      <th></th>\n",
       "      <th></th>\n",
       "      <th></th>\n",
       "    </tr>\n",
       "  </thead>\n",
       "  <tbody>\n",
       "    <tr>\n",
       "      <th>18 - 34 Years</th>\n",
       "      <td>0.139701</td>\n",
       "      <td>0.055566</td>\n",
       "      <td>0.195267</td>\n",
       "    </tr>\n",
       "    <tr>\n",
       "      <th>35 - 44 Years</th>\n",
       "      <td>0.091849</td>\n",
       "      <td>0.052233</td>\n",
       "      <td>0.144082</td>\n",
       "    </tr>\n",
       "    <tr>\n",
       "      <th>45 - 54 Years</th>\n",
       "      <td>0.117422</td>\n",
       "      <td>0.078706</td>\n",
       "      <td>0.196128</td>\n",
       "    </tr>\n",
       "    <tr>\n",
       "      <th>55 - 64 Years</th>\n",
       "      <td>0.101809</td>\n",
       "      <td>0.106489</td>\n",
       "      <td>0.208297</td>\n",
       "    </tr>\n",
       "    <tr>\n",
       "      <th>65+ Years</th>\n",
       "      <td>0.083611</td>\n",
       "      <td>0.172614</td>\n",
       "      <td>0.256225</td>\n",
       "    </tr>\n",
       "    <tr>\n",
       "      <th>All</th>\n",
       "      <td>0.534392</td>\n",
       "      <td>0.465608</td>\n",
       "      <td>1.000000</td>\n",
       "    </tr>\n",
       "  </tbody>\n",
       "</table>\n",
       "</div>"
      ],
      "text/plain": [
       "seasonal_vaccine         0         1       All\n",
       "age_group                                     \n",
       "18 - 34 Years     0.139701  0.055566  0.195267\n",
       "35 - 44 Years     0.091849  0.052233  0.144082\n",
       "45 - 54 Years     0.117422  0.078706  0.196128\n",
       "55 - 64 Years     0.101809  0.106489  0.208297\n",
       "65+ Years         0.083611  0.172614  0.256225\n",
       "All               0.534392  0.465608  1.000000"
      ]
     },
     "execution_count": 98,
     "metadata": {},
     "output_type": "execute_result"
    }
   ],
   "source": [
    "tab_age_flu"
   ]
  },
  {
   "cell_type": "code",
   "execution_count": 99,
   "metadata": {},
   "outputs": [],
   "source": [
    "tab_age_flu['prop_rec_med'] = tab_age_flu[1] / (tab_age_flu[1] + tab_age_flu[0])"
   ]
  },
  {
   "cell_type": "code",
   "execution_count": 100,
   "metadata": {},
   "outputs": [
    {
     "data": {
      "text/html": [
       "<div>\n",
       "<style scoped>\n",
       "    .dataframe tbody tr th:only-of-type {\n",
       "        vertical-align: middle;\n",
       "    }\n",
       "\n",
       "    .dataframe tbody tr th {\n",
       "        vertical-align: top;\n",
       "    }\n",
       "\n",
       "    .dataframe thead th {\n",
       "        text-align: right;\n",
       "    }\n",
       "</style>\n",
       "<table border=\"1\" class=\"dataframe\">\n",
       "  <thead>\n",
       "    <tr style=\"text-align: right;\">\n",
       "      <th>seasonal_vaccine</th>\n",
       "      <th>0</th>\n",
       "      <th>1</th>\n",
       "      <th>All</th>\n",
       "      <th>prop_rec_med</th>\n",
       "    </tr>\n",
       "    <tr>\n",
       "      <th>age_group</th>\n",
       "      <th></th>\n",
       "      <th></th>\n",
       "      <th></th>\n",
       "      <th></th>\n",
       "    </tr>\n",
       "  </thead>\n",
       "  <tbody>\n",
       "    <tr>\n",
       "      <th>18 - 34 Years</th>\n",
       "      <td>0.139701</td>\n",
       "      <td>0.055566</td>\n",
       "      <td>0.195267</td>\n",
       "      <td>0.284564</td>\n",
       "    </tr>\n",
       "    <tr>\n",
       "      <th>35 - 44 Years</th>\n",
       "      <td>0.091849</td>\n",
       "      <td>0.052233</td>\n",
       "      <td>0.144082</td>\n",
       "      <td>0.362526</td>\n",
       "    </tr>\n",
       "    <tr>\n",
       "      <th>45 - 54 Years</th>\n",
       "      <td>0.117422</td>\n",
       "      <td>0.078706</td>\n",
       "      <td>0.196128</td>\n",
       "      <td>0.401298</td>\n",
       "    </tr>\n",
       "    <tr>\n",
       "      <th>55 - 64 Years</th>\n",
       "      <td>0.101809</td>\n",
       "      <td>0.106489</td>\n",
       "      <td>0.208297</td>\n",
       "      <td>0.511235</td>\n",
       "    </tr>\n",
       "    <tr>\n",
       "      <th>65+ Years</th>\n",
       "      <td>0.083611</td>\n",
       "      <td>0.172614</td>\n",
       "      <td>0.256225</td>\n",
       "      <td>0.673681</td>\n",
       "    </tr>\n",
       "    <tr>\n",
       "      <th>All</th>\n",
       "      <td>0.534392</td>\n",
       "      <td>0.465608</td>\n",
       "      <td>1.000000</td>\n",
       "      <td>0.465608</td>\n",
       "    </tr>\n",
       "  </tbody>\n",
       "</table>\n",
       "</div>"
      ],
      "text/plain": [
       "seasonal_vaccine         0         1       All  prop_rec_med\n",
       "age_group                                                   \n",
       "18 - 34 Years     0.139701  0.055566  0.195267      0.284564\n",
       "35 - 44 Years     0.091849  0.052233  0.144082      0.362526\n",
       "45 - 54 Years     0.117422  0.078706  0.196128      0.401298\n",
       "55 - 64 Years     0.101809  0.106489  0.208297      0.511235\n",
       "65+ Years         0.083611  0.172614  0.256225      0.673681\n",
       "All               0.534392  0.465608  1.000000      0.465608"
      ]
     },
     "execution_count": 100,
     "metadata": {},
     "output_type": "execute_result"
    }
   ],
   "source": [
    "tab_age_flu"
   ]
  },
  {
   "cell_type": "code",
   "execution_count": 101,
   "metadata": {},
   "outputs": [
    {
     "data": {
      "image/png": "[encoded data removed]",
      "text/plain": [
       "<Figure size 432x288 with 1 Axes>"
      ]
     },
     "metadata": {},
     "output_type": "display_data"
    }
   ],
   "source": [
    "tab_age_flu[[0,1,'prop_rec_med']].plot(kind=\"bar\")\n",
    "plt.show()"
   ]
  },
  {
   "cell_type": "markdown",
   "metadata": {
    "collapsed": true
   },
   "source": [
    "Seperti pada grafik yang menunjukkan pola penerimaan vaksin yang dikategorikan berdasarkan jumlah anak di dalam satu keluarga, dimana ada relasi antara jumlah anak dengan kemungkinan menerima vaksin flu, maka pada kategori umur juga didapati relasi terhadap penerima vaksin flu. Semakin tua seorang individu, maka semakin berpeluang ia untuk menerima vaksin flu, relasi yang tidak kita temukan pada penerima vaksin H1N1. \n",
    "\n",
    "Temuan ini menarik karena pada dua variabel yang kita eksplorasi bersama, korelasi/relasi selalu hanya ditemukan  pada penerima vaksin flu, namun tidak ditemukan pada penerima vaksin H1N1. "
   ]
  },
  {
   "cell_type": "markdown",
   "metadata": {},
   "source": [
    "Pertanyaan 3: Mampukah kita melihat melalui diagram batang mengenai hubungan antar variabel pada kolom data dengan kemungkinan menerima vaksin yang diseleksi/dipilih berdasarkan penelitian sebelumnya mengenai faktor-faktor pendorong pertumbuhan rasio vaksinasi?"
   ]
  },
  {
   "cell_type": "markdown",
   "metadata": {},
   "source": [
    "Untuk mempermudah dalam melakukan analisa terhadap beberapa variabel, maka kita lakukan langkah pertama yaitu 'inner join' terhadap data train dan data label, dengan kunci join berada pada kolom 'respondent_id', yang dimiliki oleh kedua tabel."
   ]
  },
  {
   "cell_type": "code",
   "execution_count": 102,
   "metadata": {},
   "outputs": [],
   "source": [
    "# langkah 1: melakukan join terhadap data label dan data train\n",
    "\n",
    "df_joined = train.join(train_labels, on=[\"respondent_id\"], how = \"inner\", rsuffix=\"_\")"
   ]
  },
  {
   "cell_type": "code",
   "execution_count": 103,
   "metadata": {},
   "outputs": [
    {
     "data": {
      "text/html": [
       "<div>\n",
       "<style scoped>\n",
       "    .dataframe tbody tr th:only-of-type {\n",
       "        vertical-align: middle;\n",
       "    }\n",
       "\n",
       "    .dataframe tbody tr th {\n",
       "        vertical-align: top;\n",
       "    }\n",
       "\n",
       "    .dataframe thead th {\n",
       "        text-align: right;\n",
       "    }\n",
       "</style>\n",
       "<table border=\"1\" class=\"dataframe\">\n",
       "  <thead>\n",
       "    <tr style=\"text-align: right;\">\n",
       "      <th></th>\n",
       "      <th>respondent_id</th>\n",
       "      <th>h1n1_concern</th>\n",
       "      <th>h1n1_knowledge</th>\n",
       "      <th>behavioral_antiviral_meds</th>\n",
       "      <th>behavioral_avoidance</th>\n",
       "      <th>behavioral_face_mask</th>\n",
       "      <th>behavioral_wash_hands</th>\n",
       "      <th>behavioral_large_gatherings</th>\n",
       "      <th>behavioral_outside_home</th>\n",
       "      <th>behavioral_touch_face</th>\n",
       "      <th>...</th>\n",
       "      <th>employment_status</th>\n",
       "      <th>hhs_geo_region</th>\n",
       "      <th>census_msa</th>\n",
       "      <th>household_adults</th>\n",
       "      <th>household_children</th>\n",
       "      <th>employment_industry</th>\n",
       "      <th>employment_occupation</th>\n",
       "      <th>respondent_id_</th>\n",
       "      <th>h1n1_vaccine</th>\n",
       "      <th>seasonal_vaccine</th>\n",
       "    </tr>\n",
       "  </thead>\n",
       "  <tbody>\n",
       "    <tr>\n",
       "      <th>0</th>\n",
       "      <td>0</td>\n",
       "      <td>1.0</td>\n",
       "      <td>0.0</td>\n",
       "      <td>0.0</td>\n",
       "      <td>0.0</td>\n",
       "      <td>0.0</td>\n",
       "      <td>0.0</td>\n",
       "      <td>0.0</td>\n",
       "      <td>1.0</td>\n",
       "      <td>1.0</td>\n",
       "      <td>...</td>\n",
       "      <td>Not in Labor Force</td>\n",
       "      <td>oxchjgsf</td>\n",
       "      <td>Non-MSA</td>\n",
       "      <td>0.0</td>\n",
       "      <td>0.0</td>\n",
       "      <td>NaN</td>\n",
       "      <td>NaN</td>\n",
       "      <td>0</td>\n",
       "      <td>0</td>\n",
       "      <td>0</td>\n",
       "    </tr>\n",
       "    <tr>\n",
       "      <th>1</th>\n",
       "      <td>1</td>\n",
       "      <td>3.0</td>\n",
       "      <td>2.0</td>\n",
       "      <td>0.0</td>\n",
       "      <td>1.0</td>\n",
       "      <td>0.0</td>\n",
       "      <td>1.0</td>\n",
       "      <td>0.0</td>\n",
       "      <td>1.0</td>\n",
       "      <td>1.0</td>\n",
       "      <td>...</td>\n",
       "      <td>Employed</td>\n",
       "      <td>bhuqouqj</td>\n",
       "      <td>MSA, Not Principle  City</td>\n",
       "      <td>0.0</td>\n",
       "      <td>0.0</td>\n",
       "      <td>pxcmvdjn</td>\n",
       "      <td>xgwztkwe</td>\n",
       "      <td>1</td>\n",
       "      <td>0</td>\n",
       "      <td>1</td>\n",
       "    </tr>\n",
       "    <tr>\n",
       "      <th>2</th>\n",
       "      <td>2</td>\n",
       "      <td>1.0</td>\n",
       "      <td>1.0</td>\n",
       "      <td>0.0</td>\n",
       "      <td>1.0</td>\n",
       "      <td>0.0</td>\n",
       "      <td>0.0</td>\n",
       "      <td>0.0</td>\n",
       "      <td>0.0</td>\n",
       "      <td>0.0</td>\n",
       "      <td>...</td>\n",
       "      <td>Employed</td>\n",
       "      <td>qufhixun</td>\n",
       "      <td>MSA, Not Principle  City</td>\n",
       "      <td>2.0</td>\n",
       "      <td>0.0</td>\n",
       "      <td>rucpziij</td>\n",
       "      <td>xtkaffoo</td>\n",
       "      <td>2</td>\n",
       "      <td>0</td>\n",
       "      <td>0</td>\n",
       "    </tr>\n",
       "    <tr>\n",
       "      <th>3</th>\n",
       "      <td>3</td>\n",
       "      <td>1.0</td>\n",
       "      <td>1.0</td>\n",
       "      <td>0.0</td>\n",
       "      <td>1.0</td>\n",
       "      <td>0.0</td>\n",
       "      <td>1.0</td>\n",
       "      <td>1.0</td>\n",
       "      <td>0.0</td>\n",
       "      <td>0.0</td>\n",
       "      <td>...</td>\n",
       "      <td>Not in Labor Force</td>\n",
       "      <td>lrircsnp</td>\n",
       "      <td>MSA, Principle City</td>\n",
       "      <td>0.0</td>\n",
       "      <td>0.0</td>\n",
       "      <td>NaN</td>\n",
       "      <td>NaN</td>\n",
       "      <td>3</td>\n",
       "      <td>0</td>\n",
       "      <td>1</td>\n",
       "    </tr>\n",
       "    <tr>\n",
       "      <th>4</th>\n",
       "      <td>4</td>\n",
       "      <td>2.0</td>\n",
       "      <td>1.0</td>\n",
       "      <td>0.0</td>\n",
       "      <td>1.0</td>\n",
       "      <td>0.0</td>\n",
       "      <td>1.0</td>\n",
       "      <td>1.0</td>\n",
       "      <td>0.0</td>\n",
       "      <td>1.0</td>\n",
       "      <td>...</td>\n",
       "      <td>Employed</td>\n",
       "      <td>qufhixun</td>\n",
       "      <td>MSA, Not Principle  City</td>\n",
       "      <td>1.0</td>\n",
       "      <td>0.0</td>\n",
       "      <td>wxleyezf</td>\n",
       "      <td>emcorrxb</td>\n",
       "      <td>4</td>\n",
       "      <td>0</td>\n",
       "      <td>0</td>\n",
       "    </tr>\n",
       "  </tbody>\n",
       "</table>\n",
       "<p>5 rows × 39 columns</p>\n",
       "</div>"
      ],
      "text/plain": [
       "   respondent_id  h1n1_concern  h1n1_knowledge  behavioral_antiviral_meds  \\\n",
       "0              0           1.0             0.0                        0.0   \n",
       "1              1           3.0             2.0                        0.0   \n",
       "2              2           1.0             1.0                        0.0   \n",
       "3              3           1.0             1.0                        0.0   \n",
       "4              4           2.0             1.0                        0.0   \n",
       "\n",
       "   behavioral_avoidance  behavioral_face_mask  behavioral_wash_hands  \\\n",
       "0                   0.0                   0.0                    0.0   \n",
       "1                   1.0                   0.0                    1.0   \n",
       "2                   1.0                   0.0                    0.0   \n",
       "3                   1.0                   0.0                    1.0   \n",
       "4                   1.0                   0.0                    1.0   \n",
       "\n",
       "   behavioral_large_gatherings  behavioral_outside_home  \\\n",
       "0                          0.0                      1.0   \n",
       "1                          0.0                      1.0   \n",
       "2                          0.0                      0.0   \n",
       "3                          1.0                      0.0   \n",
       "4                          1.0                      0.0   \n",
       "\n",
       "   behavioral_touch_face  ...   employment_status  hhs_geo_region  \\\n",
       "0                    1.0  ...  Not in Labor Force        oxchjgsf   \n",
       "1                    1.0  ...            Employed        bhuqouqj   \n",
       "2                    0.0  ...            Employed        qufhixun   \n",
       "3                    0.0  ...  Not in Labor Force        lrircsnp   \n",
       "4                    1.0  ...            Employed        qufhixun   \n",
       "\n",
       "                 census_msa  household_adults  household_children  \\\n",
       "0                   Non-MSA               0.0                 0.0   \n",
       "1  MSA, Not Principle  City               0.0                 0.0   \n",
       "2  MSA, Not Principle  City               2.0                 0.0   \n",
       "3       MSA, Principle City               0.0                 0.0   \n",
       "4  MSA, Not Principle  City               1.0                 0.0   \n",
       "\n",
       "   employment_industry  employment_occupation  respondent_id_  h1n1_vaccine  \\\n",
       "0                  NaN                    NaN               0             0   \n",
       "1             pxcmvdjn               xgwztkwe               1             0   \n",
       "2             rucpziij               xtkaffoo               2             0   \n",
       "3                  NaN                    NaN               3             0   \n",
       "4             wxleyezf               emcorrxb               4             0   \n",
       "\n",
       "   seasonal_vaccine  \n",
       "0                 0  \n",
       "1                 1  \n",
       "2                 0  \n",
       "3                 1  \n",
       "4                 0  \n",
       "\n",
       "[5 rows x 39 columns]"
      ]
     },
     "execution_count": 103,
     "metadata": {},
     "output_type": "execute_result"
    }
   ],
   "source": [
    "df_joined.head()"
   ]
  },
  {
   "cell_type": "code",
   "execution_count": 104,
   "metadata": {},
   "outputs": [],
   "source": [
    "# langkah 2: membuat fungsi untuk menciptakan plot rasio vaksinasi berdasarkan kolom pada data training\n",
    "\n",
    "def vaccination_rate_plot(col,target,ax=None):\n",
    "    counts = pd.crosstab(df_joined[col], df_joined[target])\n",
    "    group_counts = counts.sum(axis=\"columns\")\n",
    "    props = counts.div(group_counts, axis=\"index\")\n",
    "    props.plot(kind=\"barh\",stacked=True,ax=ax)\n",
    "    ax.invert_yaxis()\n",
    "    ax.legend().remove()\n",
    "    "
   ]
  },
  {
   "cell_type": "markdown",
   "metadata": {},
   "source": [
    "Dari beberapa penelitian dan berita yang penuliskan kumpulkan, berikut ini adalah 10 faktor yang berhubungan/memiliki relasi/memiliki korelasi dengan/terhadap kemungkinan/rasio seseorang mendapatkan vaksin flu.\n",
    "\n",
    "1. Umur\n",
    "2. Jenis Kelamin\n",
    "3. Pendidikan\n",
    "4. Derajat kekhawatiran terhadap virus/derajat kepedulian terhadap virus\n",
    "5. Derajat keawasan/kesadaran terhadap virus\n",
    "6. Apakah dokter merekomendasikan vaksin\n",
    "7. Apakah memiliki penyakit bawaan/penyakit kronis\n",
    "8. Apakah ada riwayat kontak dengan anak kecil/balita? (karena anak kecil memilik risiko tinggi)\n",
    "9. Pendapat mereka tentang vaksin (apakah vaksin bekerja? apakah berisiko? apakah vaksin membuat mereka sakit?)\n",
    "10. Apakah mereka pekerja medis (atau berada di bidang medis)."
   ]
  },
  {
   "cell_type": "markdown",
   "metadata": {},
   "source": [
    "Sekarang, kita akan memasukkan ke-10 kolom yang merupakan faktor terbesar dari kemungkinan menerima vaksin berdasarkan sejumlah penelitian ke dalam list. List ini nantinya akan kita lakukan loop untuk membuat plot dari proporsi rasio vaksin seluruh variabel yang ada di dalam list."
   ]
  },
  {
   "cell_type": "code",
   "execution_count": 105,
   "metadata": {},
   "outputs": [
    {
     "data": {
      "text/html": [
       "<div>\n",
       "<style scoped>\n",
       "    .dataframe tbody tr th:only-of-type {\n",
       "        vertical-align: middle;\n",
       "    }\n",
       "\n",
       "    .dataframe tbody tr th {\n",
       "        vertical-align: top;\n",
       "    }\n",
       "\n",
       "    .dataframe thead th {\n",
       "        text-align: right;\n",
       "    }\n",
       "</style>\n",
       "<table border=\"1\" class=\"dataframe\">\n",
       "  <thead>\n",
       "    <tr style=\"text-align: right;\">\n",
       "      <th></th>\n",
       "      <th>respondent_id</th>\n",
       "      <th>h1n1_concern</th>\n",
       "      <th>h1n1_knowledge</th>\n",
       "      <th>behavioral_antiviral_meds</th>\n",
       "      <th>behavioral_avoidance</th>\n",
       "      <th>behavioral_face_mask</th>\n",
       "      <th>behavioral_wash_hands</th>\n",
       "      <th>behavioral_large_gatherings</th>\n",
       "      <th>behavioral_outside_home</th>\n",
       "      <th>behavioral_touch_face</th>\n",
       "      <th>...</th>\n",
       "      <th>employment_status</th>\n",
       "      <th>hhs_geo_region</th>\n",
       "      <th>census_msa</th>\n",
       "      <th>household_adults</th>\n",
       "      <th>household_children</th>\n",
       "      <th>employment_industry</th>\n",
       "      <th>employment_occupation</th>\n",
       "      <th>respondent_id_</th>\n",
       "      <th>h1n1_vaccine</th>\n",
       "      <th>seasonal_vaccine</th>\n",
       "    </tr>\n",
       "  </thead>\n",
       "  <tbody>\n",
       "    <tr>\n",
       "      <th>0</th>\n",
       "      <td>0</td>\n",
       "      <td>1.0</td>\n",
       "      <td>0.0</td>\n",
       "      <td>0.0</td>\n",
       "      <td>0.0</td>\n",
       "      <td>0.0</td>\n",
       "      <td>0.0</td>\n",
       "      <td>0.0</td>\n",
       "      <td>1.0</td>\n",
       "      <td>1.0</td>\n",
       "      <td>...</td>\n",
       "      <td>Not in Labor Force</td>\n",
       "      <td>oxchjgsf</td>\n",
       "      <td>Non-MSA</td>\n",
       "      <td>0.0</td>\n",
       "      <td>0.0</td>\n",
       "      <td>NaN</td>\n",
       "      <td>NaN</td>\n",
       "      <td>0</td>\n",
       "      <td>0</td>\n",
       "      <td>0</td>\n",
       "    </tr>\n",
       "    <tr>\n",
       "      <th>1</th>\n",
       "      <td>1</td>\n",
       "      <td>3.0</td>\n",
       "      <td>2.0</td>\n",
       "      <td>0.0</td>\n",
       "      <td>1.0</td>\n",
       "      <td>0.0</td>\n",
       "      <td>1.0</td>\n",
       "      <td>0.0</td>\n",
       "      <td>1.0</td>\n",
       "      <td>1.0</td>\n",
       "      <td>...</td>\n",
       "      <td>Employed</td>\n",
       "      <td>bhuqouqj</td>\n",
       "      <td>MSA, Not Principle  City</td>\n",
       "      <td>0.0</td>\n",
       "      <td>0.0</td>\n",
       "      <td>pxcmvdjn</td>\n",
       "      <td>xgwztkwe</td>\n",
       "      <td>1</td>\n",
       "      <td>0</td>\n",
       "      <td>1</td>\n",
       "    </tr>\n",
       "    <tr>\n",
       "      <th>2</th>\n",
       "      <td>2</td>\n",
       "      <td>1.0</td>\n",
       "      <td>1.0</td>\n",
       "      <td>0.0</td>\n",
       "      <td>1.0</td>\n",
       "      <td>0.0</td>\n",
       "      <td>0.0</td>\n",
       "      <td>0.0</td>\n",
       "      <td>0.0</td>\n",
       "      <td>0.0</td>\n",
       "      <td>...</td>\n",
       "      <td>Employed</td>\n",
       "      <td>qufhixun</td>\n",
       "      <td>MSA, Not Principle  City</td>\n",
       "      <td>2.0</td>\n",
       "      <td>0.0</td>\n",
       "      <td>rucpziij</td>\n",
       "      <td>xtkaffoo</td>\n",
       "      <td>2</td>\n",
       "      <td>0</td>\n",
       "      <td>0</td>\n",
       "    </tr>\n",
       "    <tr>\n",
       "      <th>3</th>\n",
       "      <td>3</td>\n",
       "      <td>1.0</td>\n",
       "      <td>1.0</td>\n",
       "      <td>0.0</td>\n",
       "      <td>1.0</td>\n",
       "      <td>0.0</td>\n",
       "      <td>1.0</td>\n",
       "      <td>1.0</td>\n",
       "      <td>0.0</td>\n",
       "      <td>0.0</td>\n",
       "      <td>...</td>\n",
       "      <td>Not in Labor Force</td>\n",
       "      <td>lrircsnp</td>\n",
       "      <td>MSA, Principle City</td>\n",
       "      <td>0.0</td>\n",
       "      <td>0.0</td>\n",
       "      <td>NaN</td>\n",
       "      <td>NaN</td>\n",
       "      <td>3</td>\n",
       "      <td>0</td>\n",
       "      <td>1</td>\n",
       "    </tr>\n",
       "    <tr>\n",
       "      <th>4</th>\n",
       "      <td>4</td>\n",
       "      <td>2.0</td>\n",
       "      <td>1.0</td>\n",
       "      <td>0.0</td>\n",
       "      <td>1.0</td>\n",
       "      <td>0.0</td>\n",
       "      <td>1.0</td>\n",
       "      <td>1.0</td>\n",
       "      <td>0.0</td>\n",
       "      <td>1.0</td>\n",
       "      <td>...</td>\n",
       "      <td>Employed</td>\n",
       "      <td>qufhixun</td>\n",
       "      <td>MSA, Not Principle  City</td>\n",
       "      <td>1.0</td>\n",
       "      <td>0.0</td>\n",
       "      <td>wxleyezf</td>\n",
       "      <td>emcorrxb</td>\n",
       "      <td>4</td>\n",
       "      <td>0</td>\n",
       "      <td>0</td>\n",
       "    </tr>\n",
       "    <tr>\n",
       "      <th>...</th>\n",
       "      <td>...</td>\n",
       "      <td>...</td>\n",
       "      <td>...</td>\n",
       "      <td>...</td>\n",
       "      <td>...</td>\n",
       "      <td>...</td>\n",
       "      <td>...</td>\n",
       "      <td>...</td>\n",
       "      <td>...</td>\n",
       "      <td>...</td>\n",
       "      <td>...</td>\n",
       "      <td>...</td>\n",
       "      <td>...</td>\n",
       "      <td>...</td>\n",
       "      <td>...</td>\n",
       "      <td>...</td>\n",
       "      <td>...</td>\n",
       "      <td>...</td>\n",
       "      <td>...</td>\n",
       "      <td>...</td>\n",
       "      <td>...</td>\n",
       "    </tr>\n",
       "    <tr>\n",
       "      <th>26702</th>\n",
       "      <td>26702</td>\n",
       "      <td>2.0</td>\n",
       "      <td>0.0</td>\n",
       "      <td>0.0</td>\n",
       "      <td>1.0</td>\n",
       "      <td>0.0</td>\n",
       "      <td>0.0</td>\n",
       "      <td>0.0</td>\n",
       "      <td>1.0</td>\n",
       "      <td>0.0</td>\n",
       "      <td>...</td>\n",
       "      <td>Not in Labor Force</td>\n",
       "      <td>qufhixun</td>\n",
       "      <td>Non-MSA</td>\n",
       "      <td>0.0</td>\n",
       "      <td>0.0</td>\n",
       "      <td>NaN</td>\n",
       "      <td>NaN</td>\n",
       "      <td>26702</td>\n",
       "      <td>0</td>\n",
       "      <td>0</td>\n",
       "    </tr>\n",
       "    <tr>\n",
       "      <th>26703</th>\n",
       "      <td>26703</td>\n",
       "      <td>1.0</td>\n",
       "      <td>2.0</td>\n",
       "      <td>0.0</td>\n",
       "      <td>1.0</td>\n",
       "      <td>0.0</td>\n",
       "      <td>1.0</td>\n",
       "      <td>0.0</td>\n",
       "      <td>0.0</td>\n",
       "      <td>0.0</td>\n",
       "      <td>...</td>\n",
       "      <td>Employed</td>\n",
       "      <td>lzgpxyit</td>\n",
       "      <td>MSA, Principle City</td>\n",
       "      <td>1.0</td>\n",
       "      <td>0.0</td>\n",
       "      <td>fcxhlnwr</td>\n",
       "      <td>cmhcxjea</td>\n",
       "      <td>26703</td>\n",
       "      <td>0</td>\n",
       "      <td>0</td>\n",
       "    </tr>\n",
       "    <tr>\n",
       "      <th>26704</th>\n",
       "      <td>26704</td>\n",
       "      <td>2.0</td>\n",
       "      <td>2.0</td>\n",
       "      <td>0.0</td>\n",
       "      <td>1.0</td>\n",
       "      <td>1.0</td>\n",
       "      <td>1.0</td>\n",
       "      <td>1.0</td>\n",
       "      <td>0.0</td>\n",
       "      <td>1.0</td>\n",
       "      <td>...</td>\n",
       "      <td>NaN</td>\n",
       "      <td>lzgpxyit</td>\n",
       "      <td>MSA, Not Principle  City</td>\n",
       "      <td>0.0</td>\n",
       "      <td>0.0</td>\n",
       "      <td>NaN</td>\n",
       "      <td>NaN</td>\n",
       "      <td>26704</td>\n",
       "      <td>0</td>\n",
       "      <td>1</td>\n",
       "    </tr>\n",
       "    <tr>\n",
       "      <th>26705</th>\n",
       "      <td>26705</td>\n",
       "      <td>1.0</td>\n",
       "      <td>1.0</td>\n",
       "      <td>0.0</td>\n",
       "      <td>0.0</td>\n",
       "      <td>0.0</td>\n",
       "      <td>0.0</td>\n",
       "      <td>0.0</td>\n",
       "      <td>0.0</td>\n",
       "      <td>NaN</td>\n",
       "      <td>...</td>\n",
       "      <td>Employed</td>\n",
       "      <td>lrircsnp</td>\n",
       "      <td>Non-MSA</td>\n",
       "      <td>1.0</td>\n",
       "      <td>0.0</td>\n",
       "      <td>fcxhlnwr</td>\n",
       "      <td>haliazsg</td>\n",
       "      <td>26705</td>\n",
       "      <td>0</td>\n",
       "      <td>0</td>\n",
       "    </tr>\n",
       "    <tr>\n",
       "      <th>26706</th>\n",
       "      <td>26706</td>\n",
       "      <td>0.0</td>\n",
       "      <td>0.0</td>\n",
       "      <td>0.0</td>\n",
       "      <td>1.0</td>\n",
       "      <td>0.0</td>\n",
       "      <td>0.0</td>\n",
       "      <td>0.0</td>\n",
       "      <td>0.0</td>\n",
       "      <td>0.0</td>\n",
       "      <td>...</td>\n",
       "      <td>Not in Labor Force</td>\n",
       "      <td>mlyzmhmf</td>\n",
       "      <td>MSA, Principle City</td>\n",
       "      <td>1.0</td>\n",
       "      <td>0.0</td>\n",
       "      <td>NaN</td>\n",
       "      <td>NaN</td>\n",
       "      <td>26706</td>\n",
       "      <td>0</td>\n",
       "      <td>0</td>\n",
       "    </tr>\n",
       "  </tbody>\n",
       "</table>\n",
       "<p>26707 rows × 39 columns</p>\n",
       "</div>"
      ],
      "text/plain": [
       "       respondent_id  h1n1_concern  h1n1_knowledge  behavioral_antiviral_meds  \\\n",
       "0                  0           1.0             0.0                        0.0   \n",
       "1                  1           3.0             2.0                        0.0   \n",
       "2                  2           1.0             1.0                        0.0   \n",
       "3                  3           1.0             1.0                        0.0   \n",
       "4                  4           2.0             1.0                        0.0   \n",
       "...              ...           ...             ...                        ...   \n",
       "26702          26702           2.0             0.0                        0.0   \n",
       "26703          26703           1.0             2.0                        0.0   \n",
       "26704          26704           2.0             2.0                        0.0   \n",
       "26705          26705           1.0             1.0                        0.0   \n",
       "26706          26706           0.0             0.0                        0.0   \n",
       "\n",
       "       behavioral_avoidance  behavioral_face_mask  behavioral_wash_hands  \\\n",
       "0                       0.0                   0.0                    0.0   \n",
       "1                       1.0                   0.0                    1.0   \n",
       "2                       1.0                   0.0                    0.0   \n",
       "3                       1.0                   0.0                    1.0   \n",
       "4                       1.0                   0.0                    1.0   \n",
       "...                     ...                   ...                    ...   \n",
       "26702                   1.0                   0.0                    0.0   \n",
       "26703                   1.0                   0.0                    1.0   \n",
       "26704                   1.0                   1.0                    1.0   \n",
       "26705                   0.0                   0.0                    0.0   \n",
       "26706                   1.0                   0.0                    0.0   \n",
       "\n",
       "       behavioral_large_gatherings  behavioral_outside_home  \\\n",
       "0                              0.0                      1.0   \n",
       "1                              0.0                      1.0   \n",
       "2                              0.0                      0.0   \n",
       "3                              1.0                      0.0   \n",
       "4                              1.0                      0.0   \n",
       "...                            ...                      ...   \n",
       "26702                          0.0                      1.0   \n",
       "26703                          0.0                      0.0   \n",
       "26704                          1.0                      0.0   \n",
       "26705                          0.0                      0.0   \n",
       "26706                          0.0                      0.0   \n",
       "\n",
       "       behavioral_touch_face  ...   employment_status  hhs_geo_region  \\\n",
       "0                        1.0  ...  Not in Labor Force        oxchjgsf   \n",
       "1                        1.0  ...            Employed        bhuqouqj   \n",
       "2                        0.0  ...            Employed        qufhixun   \n",
       "3                        0.0  ...  Not in Labor Force        lrircsnp   \n",
       "4                        1.0  ...            Employed        qufhixun   \n",
       "...                      ...  ...                 ...             ...   \n",
       "26702                    0.0  ...  Not in Labor Force        qufhixun   \n",
       "26703                    0.0  ...            Employed        lzgpxyit   \n",
       "26704                    1.0  ...                 NaN        lzgpxyit   \n",
       "26705                    NaN  ...            Employed        lrircsnp   \n",
       "26706                    0.0  ...  Not in Labor Force        mlyzmhmf   \n",
       "\n",
       "                     census_msa  household_adults  household_children  \\\n",
       "0                       Non-MSA               0.0                 0.0   \n",
       "1      MSA, Not Principle  City               0.0                 0.0   \n",
       "2      MSA, Not Principle  City               2.0                 0.0   \n",
       "3           MSA, Principle City               0.0                 0.0   \n",
       "4      MSA, Not Principle  City               1.0                 0.0   \n",
       "...                         ...               ...                 ...   \n",
       "26702                   Non-MSA               0.0                 0.0   \n",
       "26703       MSA, Principle City               1.0                 0.0   \n",
       "26704  MSA, Not Principle  City               0.0                 0.0   \n",
       "26705                   Non-MSA               1.0                 0.0   \n",
       "26706       MSA, Principle City               1.0                 0.0   \n",
       "\n",
       "       employment_industry  employment_occupation  respondent_id_  \\\n",
       "0                      NaN                    NaN               0   \n",
       "1                 pxcmvdjn               xgwztkwe               1   \n",
       "2                 rucpziij               xtkaffoo               2   \n",
       "3                      NaN                    NaN               3   \n",
       "4                 wxleyezf               emcorrxb               4   \n",
       "...                    ...                    ...             ...   \n",
       "26702                  NaN                    NaN           26702   \n",
       "26703             fcxhlnwr               cmhcxjea           26703   \n",
       "26704                  NaN                    NaN           26704   \n",
       "26705             fcxhlnwr               haliazsg           26705   \n",
       "26706                  NaN                    NaN           26706   \n",
       "\n",
       "       h1n1_vaccine  seasonal_vaccine  \n",
       "0                 0                 0  \n",
       "1                 0                 1  \n",
       "2                 0                 0  \n",
       "3                 0                 1  \n",
       "4                 0                 0  \n",
       "...             ...               ...  \n",
       "26702             0                 0  \n",
       "26703             0                 0  \n",
       "26704             0                 1  \n",
       "26705             0                 0  \n",
       "26706             0                 0  \n",
       "\n",
       "[26707 rows x 39 columns]"
      ]
     },
     "execution_count": 105,
     "metadata": {},
     "output_type": "execute_result"
    }
   ],
   "source": [
    "df_joined"
   ]
  },
  {
   "cell_type": "code",
   "execution_count": 106,
   "metadata": {},
   "outputs": [],
   "source": [
    "# masukkan kolom objek penelitian ke dalam list\n",
    "\n",
    "cols_to_loop = [\"h1n1_concern\", \"h1n1_knowledge\", \"doctor_recc_h1n1\",\n",
    "               \"doctor_recc_seasonal\",\"chronic_med_condition\",\"child_under_6_months\",\n",
    "               \"opinion_h1n1_vacc_effective\",\"opinion_h1n1_risk\",\"opinion_h1n1_sick_from_vacc\",\n",
    "               \"opinion_seas_vacc_effective\",\"opinion_seas_risk\",\"opinion_seas_sick_from_vacc\",\n",
    "               \"age_group\",\"education\",\"sex\",\"income_poverty\"]"
   ]
  },
  {
   "cell_type": "code",
   "execution_count": 107,
   "metadata": {},
   "outputs": [
    {
     "data": {
      "image/png": "[encoded data removed]",
      "text/plain": [
       "<Figure size 648x2880 with 32 Axes>"
      ]
     },
     "metadata": {},
     "output_type": "display_data"
    }
   ],
   "source": [
    "# melakukan pengaturan terhadap plot dana axis\n",
    "\n",
    "fig,ax = plt.subplots(len(cols_to_loop),2,figsize=(9,len(cols_to_loop)*2.5))\n",
    "\n",
    "# melakukan iterasi/loop terhadap seluruh kolom\n",
    "\n",
    "for index, col in enumerate(cols_to_loop):\n",
    "    # buat plot pertama sebagai plot H1N1\n",
    "    vaccination_rate_plot(col, \"h1n1_vaccine\", ax=ax[index,0])\n",
    "    # buat plot kedua sebagai plot flu\n",
    "    vaccination_rate_plot(col, \"seasonal_vaccine\", ax=ax[index,1])\n",
    "    # atur labels\n",
    "    ax[0,0].legend(loc=\"lower center\", bbox_to_anchor=(0.5,1.05),\n",
    "                  title=\"h1n1_vaccine\")\n",
    "    \n",
    "    ax[0,1].legend(loc=\"lower center\", bbox_to_anchor=(0.5,1.05),\n",
    "                  title=\"seasonal_vaccine\")\n",
    "    # pengaturan agar layoutnya rapat\n",
    "    fig.tight_layout()"
   ]
  },
  {
   "cell_type": "markdown",
   "metadata": {},
   "source": [
    "Dari plot di atas, kita mengamati hal-hal berikut:"
   ]
  },
  {
   "cell_type": "markdown",
   "metadata": {},
   "source": [
    "Berikut ini adalah faktor-faktor yang menurut pengamatan plot memiliki korelasi terhadap kemungkinan menerima vaksin/rasio penerimaan vaksin yang tinggi (bahkan dengan korelasi yang cukup signifikan) H1N1. Analisa secara statistik yang lebih dalam dapat mengkonfirmasi hal ini. \n",
    "\n",
    "1. Tingginya perhatian terhadap H1N1\n",
    "2. Tingginya pengetahuan tentang H1N1\n",
    "3. Jika dokter yang memeriksa mereka merekomendasikan vaksin H1N1 kepada individu, maka setengah dari mereka akan menerima vaksin H1N1.\n",
    "4. Jika dokter merekomendasikan vaksin flu\n",
    "5. Jika mereka punya penyakit kronis bawaan\n",
    "6. Jika mereka punya anak kecil di bawah 6 bulan\n",
    "7. Jika mereka punya opini positif terhadap vaksin H1N1\n",
    "8. Jika mereka punya opini positif terhadap risiko terkena penyakit jika tidak mendapatkan vaksin H1N1\n",
    "9. Jika mereka berpendapat bahwa vaksin flu efektif\n",
    "10. Jika mereka berpendapat bahwa tanpa vaksin flu, risiko terkena penyakit semakin besar\n",
    "\n",
    "Untuk vaksin flu, maka faktor-faktor berikut adalah yang memiliki korelasi tinggi terhadap penerimaan vaksin.\n",
    "\n",
    "1. Naiknya perhatian terhadap H1N1\n",
    "2. Naiknya pengetahuan tentang H1N1\n",
    "3. Dokter merekomendasikan vaksin H1N1\n",
    "4. Dokter merekomendasikan vaksin flu (korelasi tinggi)\n",
    "5. Punya penyakit kronis bawaan (korelasi tinggi)\n",
    "6. Berpendapat bahwa vaksin H1N1 efektif\n",
    "7. Berpendapat bahwa risiko tertular penyakit tinggi tanpa vaksin H1N1\n",
    "8. Berpendapat bahwa vaksin flu efektif (korelasi tinggi)\n",
    "9. Berpendapat bahwa risiko tertular penyakit tinggi tanpa vaksin flu\n",
    "10. Umur: semakin tua individu, penerimaan vaksin flu meningkat\n",
    "11. Pendidikan (korelasi sedang - lulusan sarjana memiliki penerimaan yang lebih tinggi)\n",
    "12. Pendapatan (korelasi sedang - di bawah garis kemiskinan memiliki kemungkinan kecil menerima vaksin)\n",
    "\n",
    "Secara umum, kita berhasil mengamati hal-hal berikut:\n",
    "\n",
    "1. Kita harus mendalami lebih jauh mengenai kemungkinan terjadinya kolinearitas (contoh: apakah individu yang menerima rekomendasi dokter untuk mendapatkan vaksin H1N1 juga menerima rekomendasi untuk mendapatkan vaksin flu)\n",
    "2. Pendapat individu mengenai a)berbahayanya virus b)efektivitas vaksin dan c)kebutuhan mereka terhadap vaksin nampak merupakan faktor prediktor yang tinggi/kuat terhadap kemungkinan menerima vaksin\n",
    "3. Faktor demografis, secara garis besar, tidak mempengaruhi/memiliki korelasi terhadap rasio penerimaan vaksin\n",
    "4. Umur berhasil memprediksi kemungkinan mendapatkan vaksin flu (semakin tua individu, peluang mendapatkan vaksin flu semakin besar), namun korelasi ini tidak berlaku pada vaksin H1N1.\n"
   ]
  },
  {
   "cell_type": "markdown",
   "metadata": {},
   "source": [
    "Pertanyaan 4: Bagaimana kovariat/variabel memiliki relasi satu dengan yang lain? (koleniaritas)\n",
    "\n",
    "Setelah memahami korelasi antara variabel prediktor dengan variabel target, maka kita akan mengamati bagaimana korelasi antar sesama variabel prediktor."
   ]
  },
  {
   "cell_type": "code",
   "execution_count": 108,
   "metadata": {},
   "outputs": [],
   "source": [
    "# mengambil kolom dengan tipe data numerik\n",
    "numeric_cols = [col for col in train.columns if train[col].dtype == \"float64\"]"
   ]
  },
  {
   "cell_type": "code",
   "execution_count": 109,
   "metadata": {},
   "outputs": [],
   "source": [
    "# mengambil beberapa porsi data untuk data training\n",
    "numeric_training_data = train.loc[:, numeric_cols]"
   ]
  },
  {
   "cell_type": "code",
   "execution_count": 110,
   "metadata": {},
   "outputs": [],
   "source": [
    "# membuat matriks korelasi\n",
    "corr_matrix = numeric_training_data.corr()"
   ]
  },
  {
   "cell_type": "code",
   "execution_count": 111,
   "metadata": {},
   "outputs": [
    {
     "data": {
      "text/plain": [
       "0.5918676633641384"
      ]
     },
     "execution_count": 111,
     "metadata": {},
     "output_type": "execute_result"
    }
   ],
   "source": [
    "# Berapa angka korelasi maksimal-nya (di luar diagonal)\n",
    "np.max(np.tril(corr_matrix, k=-1))"
   ]
  },
  {
   "cell_type": "code",
   "execution_count": 112,
   "metadata": {},
   "outputs": [],
   "source": [
    "# Gambarkan korelasi dalam bentuk segitiga\n",
    "mask = np.triu(np.ones_like(corr_matrix, dtype=np.bool))"
   ]
  },
  {
   "cell_type": "code",
   "execution_count": 113,
   "metadata": {},
   "outputs": [
    {
     "ename": "TypeError",
     "evalue": "object of type <class 'float'> cannot be safely interpreted as an integer.",
     "output_type": "error",
     "traceback": [
      "\u001b[1;31m---------------------------------------------------------------------------\u001b[0m",
      "\u001b[1;31mTypeError\u001b[0m                                 Traceback (most recent call last)",
      "\u001b[1;32mc:\\users\\faris\\anaconda3\\envs\\mytfenv_udemy\\lib\\site-packages\\numpy\\core\\function_base.py\u001b[0m in \u001b[0;36mlinspace\u001b[1;34m(start, stop, num, endpoint, retstep, dtype, axis)\u001b[0m\n\u001b[0;32m    116\u001b[0m     \u001b[1;32mtry\u001b[0m\u001b[1;33m:\u001b[0m\u001b[1;33m\u001b[0m\u001b[1;33m\u001b[0m\u001b[0m\n\u001b[1;32m--> 117\u001b[1;33m         \u001b[0mnum\u001b[0m \u001b[1;33m=\u001b[0m \u001b[0moperator\u001b[0m\u001b[1;33m.\u001b[0m\u001b[0mindex\u001b[0m\u001b[1;33m(\u001b[0m\u001b[0mnum\u001b[0m\u001b[1;33m)\u001b[0m\u001b[1;33m\u001b[0m\u001b[1;33m\u001b[0m\u001b[0m\n\u001b[0m\u001b[0;32m    118\u001b[0m     \u001b[1;32mexcept\u001b[0m \u001b[0mTypeError\u001b[0m\u001b[1;33m:\u001b[0m\u001b[1;33m\u001b[0m\u001b[1;33m\u001b[0m\u001b[0m\n",
      "\u001b[1;31mTypeError\u001b[0m: 'float' object cannot be interpreted as an integer",
      "\nDuring handling of the above exception, another exception occurred:\n",
      "\u001b[1;31mTypeError\u001b[0m                                 Traceback (most recent call last)",
      "\u001b[1;32m<ipython-input-113-21f604093490>\u001b[0m in \u001b[0;36m<module>\u001b[1;34m\u001b[0m\n\u001b[0;32m      3\u001b[0m \u001b[1;33m\u001b[0m\u001b[0m\n\u001b[0;32m      4\u001b[0m \u001b[1;31m# Buat pemetaan warna yang menunjukkan perbedaan\u001b[0m\u001b[1;33m\u001b[0m\u001b[1;33m\u001b[0m\u001b[1;33m\u001b[0m\u001b[0m\n\u001b[1;32m----> 5\u001b[1;33m \u001b[0mcmap\u001b[0m \u001b[1;33m=\u001b[0m \u001b[0msns\u001b[0m\u001b[1;33m.\u001b[0m\u001b[0mdiverging_palette\u001b[0m\u001b[1;33m(\u001b[0m\u001b[1;36m220\u001b[0m\u001b[1;33m,\u001b[0m\u001b[1;36m10\u001b[0m\u001b[1;33m,\u001b[0m\u001b[0mas_cmap\u001b[0m\u001b[1;33m=\u001b[0m\u001b[1;32mTrue\u001b[0m\u001b[1;33m)\u001b[0m\u001b[1;33m\u001b[0m\u001b[1;33m\u001b[0m\u001b[0m\n\u001b[0m\u001b[0;32m      6\u001b[0m \u001b[1;33m\u001b[0m\u001b[0m\n\u001b[0;32m      7\u001b[0m \u001b[1;31m# Gambar peta panas dengan mask dan warna yang sudah diatur\u001b[0m\u001b[1;33m\u001b[0m\u001b[1;33m\u001b[0m\u001b[1;33m\u001b[0m\u001b[0m\n",
      "\u001b[1;32mc:\\users\\faris\\anaconda3\\envs\\mytfenv_udemy\\lib\\site-packages\\seaborn\\palettes.py\u001b[0m in \u001b[0;36mdiverging_palette\u001b[1;34m(h_neg, h_pos, s, l, sep, n, center, as_cmap)\u001b[0m\n\u001b[0;32m    742\u001b[0m     \"\"\"\n\u001b[0;32m    743\u001b[0m     \u001b[0mpalfunc\u001b[0m \u001b[1;33m=\u001b[0m \u001b[0mdark_palette\u001b[0m \u001b[1;32mif\u001b[0m \u001b[0mcenter\u001b[0m \u001b[1;33m==\u001b[0m \u001b[1;34m\"dark\"\u001b[0m \u001b[1;32melse\u001b[0m \u001b[0mlight_palette\u001b[0m\u001b[1;33m\u001b[0m\u001b[1;33m\u001b[0m\u001b[0m\n\u001b[1;32m--> 744\u001b[1;33m     \u001b[0mneg\u001b[0m \u001b[1;33m=\u001b[0m \u001b[0mpalfunc\u001b[0m\u001b[1;33m(\u001b[0m\u001b[1;33m(\u001b[0m\u001b[0mh_neg\u001b[0m\u001b[1;33m,\u001b[0m \u001b[0ms\u001b[0m\u001b[1;33m,\u001b[0m \u001b[0ml\u001b[0m\u001b[1;33m)\u001b[0m\u001b[1;33m,\u001b[0m \u001b[1;36m128\u001b[0m \u001b[1;33m-\u001b[0m \u001b[1;33m(\u001b[0m\u001b[0msep\u001b[0m \u001b[1;33m/\u001b[0m \u001b[1;36m2\u001b[0m\u001b[1;33m)\u001b[0m\u001b[1;33m,\u001b[0m \u001b[0mreverse\u001b[0m\u001b[1;33m=\u001b[0m\u001b[1;32mTrue\u001b[0m\u001b[1;33m,\u001b[0m \u001b[0minput\u001b[0m\u001b[1;33m=\u001b[0m\u001b[1;34m\"husl\"\u001b[0m\u001b[1;33m)\u001b[0m\u001b[1;33m\u001b[0m\u001b[1;33m\u001b[0m\u001b[0m\n\u001b[0m\u001b[0;32m    745\u001b[0m     \u001b[0mpos\u001b[0m \u001b[1;33m=\u001b[0m \u001b[0mpalfunc\u001b[0m\u001b[1;33m(\u001b[0m\u001b[1;33m(\u001b[0m\u001b[0mh_pos\u001b[0m\u001b[1;33m,\u001b[0m \u001b[0ms\u001b[0m\u001b[1;33m,\u001b[0m \u001b[0ml\u001b[0m\u001b[1;33m)\u001b[0m\u001b[1;33m,\u001b[0m \u001b[1;36m128\u001b[0m \u001b[1;33m-\u001b[0m \u001b[1;33m(\u001b[0m\u001b[0msep\u001b[0m \u001b[1;33m/\u001b[0m \u001b[1;36m2\u001b[0m\u001b[1;33m)\u001b[0m\u001b[1;33m,\u001b[0m \u001b[0minput\u001b[0m\u001b[1;33m=\u001b[0m\u001b[1;34m\"husl\"\u001b[0m\u001b[1;33m)\u001b[0m\u001b[1;33m\u001b[0m\u001b[1;33m\u001b[0m\u001b[0m\n\u001b[0;32m    746\u001b[0m     midpoint = dict(light=[(.95, .95, .95, 1.)],\n",
      "\u001b[1;32mc:\\users\\faris\\anaconda3\\envs\\mytfenv_udemy\\lib\\site-packages\\seaborn\\palettes.py\u001b[0m in \u001b[0;36mlight_palette\u001b[1;34m(color, n_colors, reverse, as_cmap, input)\u001b[0m\n\u001b[0;32m    639\u001b[0m     \u001b[0mlight\u001b[0m \u001b[1;33m=\u001b[0m \u001b[0mset_hls_values\u001b[0m\u001b[1;33m(\u001b[0m\u001b[0mcolor\u001b[0m\u001b[1;33m,\u001b[0m \u001b[0ml\u001b[0m\u001b[1;33m=\u001b[0m\u001b[1;36m.95\u001b[0m\u001b[1;33m)\u001b[0m  \u001b[1;31m# noqa\u001b[0m\u001b[1;33m\u001b[0m\u001b[1;33m\u001b[0m\u001b[0m\n\u001b[0;32m    640\u001b[0m     \u001b[0mcolors\u001b[0m \u001b[1;33m=\u001b[0m \u001b[1;33m[\u001b[0m\u001b[0mcolor\u001b[0m\u001b[1;33m,\u001b[0m \u001b[0mlight\u001b[0m\u001b[1;33m]\u001b[0m \u001b[1;32mif\u001b[0m \u001b[0mreverse\u001b[0m \u001b[1;32melse\u001b[0m \u001b[1;33m[\u001b[0m\u001b[0mlight\u001b[0m\u001b[1;33m,\u001b[0m \u001b[0mcolor\u001b[0m\u001b[1;33m]\u001b[0m\u001b[1;33m\u001b[0m\u001b[1;33m\u001b[0m\u001b[0m\n\u001b[1;32m--> 641\u001b[1;33m     \u001b[1;32mreturn\u001b[0m \u001b[0mblend_palette\u001b[0m\u001b[1;33m(\u001b[0m\u001b[0mcolors\u001b[0m\u001b[1;33m,\u001b[0m \u001b[0mn_colors\u001b[0m\u001b[1;33m,\u001b[0m \u001b[0mas_cmap\u001b[0m\u001b[1;33m)\u001b[0m\u001b[1;33m\u001b[0m\u001b[1;33m\u001b[0m\u001b[0m\n\u001b[0m\u001b[0;32m    642\u001b[0m \u001b[1;33m\u001b[0m\u001b[0m\n\u001b[0;32m    643\u001b[0m \u001b[1;33m\u001b[0m\u001b[0m\n",
      "\u001b[1;32mc:\\users\\faris\\anaconda3\\envs\\mytfenv_udemy\\lib\\site-packages\\seaborn\\palettes.py\u001b[0m in \u001b[0;36mblend_palette\u001b[1;34m(colors, n_colors, as_cmap, input)\u001b[0m\n\u001b[0;32m    775\u001b[0m     \u001b[0mpal\u001b[0m \u001b[1;33m=\u001b[0m \u001b[0mmpl\u001b[0m\u001b[1;33m.\u001b[0m\u001b[0mcolors\u001b[0m\u001b[1;33m.\u001b[0m\u001b[0mLinearSegmentedColormap\u001b[0m\u001b[1;33m.\u001b[0m\u001b[0mfrom_list\u001b[0m\u001b[1;33m(\u001b[0m\u001b[0mname\u001b[0m\u001b[1;33m,\u001b[0m \u001b[0mcolors\u001b[0m\u001b[1;33m)\u001b[0m\u001b[1;33m\u001b[0m\u001b[1;33m\u001b[0m\u001b[0m\n\u001b[0;32m    776\u001b[0m     \u001b[1;32mif\u001b[0m \u001b[1;32mnot\u001b[0m \u001b[0mas_cmap\u001b[0m\u001b[1;33m:\u001b[0m\u001b[1;33m\u001b[0m\u001b[1;33m\u001b[0m\u001b[0m\n\u001b[1;32m--> 777\u001b[1;33m         \u001b[0mpal\u001b[0m \u001b[1;33m=\u001b[0m \u001b[0m_ColorPalette\u001b[0m\u001b[1;33m(\u001b[0m\u001b[0mpal\u001b[0m\u001b[1;33m(\u001b[0m\u001b[0mnp\u001b[0m\u001b[1;33m.\u001b[0m\u001b[0mlinspace\u001b[0m\u001b[1;33m(\u001b[0m\u001b[1;36m0\u001b[0m\u001b[1;33m,\u001b[0m \u001b[1;36m1\u001b[0m\u001b[1;33m,\u001b[0m \u001b[0mn_colors\u001b[0m\u001b[1;33m)\u001b[0m\u001b[1;33m)\u001b[0m\u001b[1;33m)\u001b[0m\u001b[1;33m\u001b[0m\u001b[1;33m\u001b[0m\u001b[0m\n\u001b[0m\u001b[0;32m    778\u001b[0m     \u001b[1;32mreturn\u001b[0m \u001b[0mpal\u001b[0m\u001b[1;33m\u001b[0m\u001b[1;33m\u001b[0m\u001b[0m\n\u001b[0;32m    779\u001b[0m \u001b[1;33m\u001b[0m\u001b[0m\n",
      "\u001b[1;32m<__array_function__ internals>\u001b[0m in \u001b[0;36mlinspace\u001b[1;34m(*args, **kwargs)\u001b[0m\n",
      "\u001b[1;32mc:\\users\\faris\\anaconda3\\envs\\mytfenv_udemy\\lib\\site-packages\\numpy\\core\\function_base.py\u001b[0m in \u001b[0;36mlinspace\u001b[1;34m(start, stop, num, endpoint, retstep, dtype, axis)\u001b[0m\n\u001b[0;32m    119\u001b[0m         raise TypeError(\n\u001b[0;32m    120\u001b[0m             \u001b[1;34m\"object of type {} cannot be safely interpreted as an integer.\"\u001b[0m\u001b[1;33m\u001b[0m\u001b[1;33m\u001b[0m\u001b[0m\n\u001b[1;32m--> 121\u001b[1;33m                 .format(type(num)))\n\u001b[0m\u001b[0;32m    122\u001b[0m \u001b[1;33m\u001b[0m\u001b[0m\n\u001b[0;32m    123\u001b[0m     \u001b[1;32mif\u001b[0m \u001b[0mnum\u001b[0m \u001b[1;33m<\u001b[0m \u001b[1;36m0\u001b[0m\u001b[1;33m:\u001b[0m\u001b[1;33m\u001b[0m\u001b[1;33m\u001b[0m\u001b[0m\n",
      "\u001b[1;31mTypeError\u001b[0m: object of type <class 'float'> cannot be safely interpreted as an integer."
     ]
    },
    {
     "data": {
      "image/png": "[encoded data removed]",
      "text/plain": [
       "<Figure size 720x576 with 1 Axes>"
      ]
     },
     "metadata": {},
     "output_type": "display_data"
    }
   ],
   "source": [
    "# pengaturan terhadap grafik matplotlib\n",
    "fig, ax = plt.subplots(figsize=(10,8))\n",
    "\n",
    "# Buat pemetaan warna yang menunjukkan perbedaan\n",
    "cmap = sns.diverging_palette(220,10,as_cmap=True)\n",
    "\n",
    "# Gambar peta panas dengan mask dan warna yang sudah diatur\n",
    "sns.heatmap(corr_matrix, mask=mask, cmap=cmap, center =0,\n",
    "           square=True, linewidths=.5, cbar_kws={\"shrink\":.5})\n",
    "plt.show()"
   ]
  },
  {
   "cell_type": "markdown",
   "metadata": {},
   "source": [
    "Ada beberapa hal yang dapat kita simpulkan sementara dari grafik di atas:\n",
    "\n",
    "1. Seperti yang telah diduga sebelumnya, kovariasi/relasi antara/koleniaritas antara pendapat individu mengenai manjurnya/efektifnya vaksin cukup tinggi (punya korelasi yang kuat)\n",
    "\n",
    "2. Yang mengejutkan adalah korelasi lemah antara jumlah anak di dalam satu keluarga dengan penanganan terhadap virus - penelitian terdahulu menyimpulkan bahwa jika suatu keluarga memiliki jumlah anak yang lebih banyak, mereka akan lebih mendukung program vaksin karena mereka sadar anak-anak mereka memiliki ancaman tertular yang besar.\n",
    "\n",
    "3. Meskipun korelasi lemah pada variabel jumlah anak, namun pada variabel anak di bawah 6 bulan (child_under_6_months), korelasinya menunjukkan positif terhadap hampir seluruh variabel, menunjukkan bahwa jika ada anak kecil di satu rumah/satu keluarga, orang-orang dewasanya akan lebih berpeluang menerima vaksin. Penjelasannya mungkin dikarenakan ketika anak-anak ini sudah memiliki umur yang cukup/sudah tidak balita lagi, orang tuanya berpikir bahwa si anak sudah tidak riskan terkena virus, namun ketika anaknya masih sangat belia, orang tuanya akan menjadi lebih khawatir."
   ]
  },
  {
   "cell_type": "markdown",
   "metadata": {},
   "source": [
    "Pertanyaan 5: Bagaimana model awal dari tantangan ini dan mana variabel yang memiliki pengaruh besar terhadap variabel target?"
   ]
  },
  {
   "cell_type": "markdown",
   "metadata": {},
   "source": [
    "Setelah melihat hubungan antara sesama variabel prediktor dalam bentuk grafik dan juga hubungan antara variabel prediktor dan variabel, maka kita akan membuat model sederhana / model awal yang akan memberi kita informasi penting mengenai mana saja variabel yang memiliki paling besar terhadap variabel prediktor. Mana variabel yang lebih penting dan mana variabel yang dapat diabaikan. Kita dapat menggunakan model logistic regression dalam pembuatan model karena kita melakukan prediksi terhadap variabel target yang mempunyai tipe data binary (antara 0 dan 1). \n",
    "\n",
    "Variabel yang akan kita masukkan pada model hanya variabel yang bertipe numerik, agar kita tak perlu melakukan one hot encoding pada variabel dengan tipe object/character. Tujuan utama dari model awal ini adalah untuk melihat mana variabel yang kira-kira memiliki pengaruh terbesar, dan berdasarkan analisa sebelumnya, kita mengetahui bahwa variabel bertipe numerik-lah yang memiliki hubungan cukup kuat dengan variabel target untuk memprediksi penerimaan vaksin.\n",
    "\n",
    "Sebelum membuat model, kita akan mengganti data yang kosong (NA) dengan nilai tengah (median) dari masing-masing kolom"
   ]
  },
  {
   "cell_type": "code",
   "execution_count": 114,
   "metadata": {},
   "outputs": [
    {
     "data": {
      "text/plain": [
       "h1n1_concern                      92\n",
       "h1n1_knowledge                   116\n",
       "behavioral_antiviral_meds         71\n",
       "behavioral_avoidance             208\n",
       "behavioral_face_mask              19\n",
       "behavioral_wash_hands             42\n",
       "behavioral_large_gatherings       87\n",
       "behavioral_outside_home           82\n",
       "behavioral_touch_face            128\n",
       "doctor_recc_h1n1                2160\n",
       "doctor_recc_seasonal            2160\n",
       "chronic_med_condition            971\n",
       "child_under_6_months             820\n",
       "health_worker                    804\n",
       "health_insurance               12274\n",
       "opinion_h1n1_vacc_effective      391\n",
       "opinion_h1n1_risk                388\n",
       "opinion_h1n1_sick_from_vacc      395\n",
       "opinion_seas_vacc_effective      462\n",
       "opinion_seas_risk                514\n",
       "opinion_seas_sick_from_vacc      537\n",
       "household_adults                 249\n",
       "household_children               249\n",
       "dtype: int64"
      ]
     },
     "execution_count": 114,
     "metadata": {},
     "output_type": "execute_result"
    }
   ],
   "source": [
    "# memeriksa nilai NA\n",
    "numeric_training_data.isnull().sum()"
   ]
  },
  {
   "cell_type": "code",
   "execution_count": 115,
   "metadata": {},
   "outputs": [],
   "source": [
    "# memotong nilai yang kosong (impute) dengan median\n",
    "\n",
    "imputed_train = SimpleImputer(missing_values = np.nan,\n",
    "                             strategy = \"median\")\n",
    "\n",
    "# melakukan fit objek imputer terhadap data train\n",
    "\n",
    "train_num_imp = pd.DataFrame(imputed_train.fit_transform(numeric_training_data),\n",
    "                            columns = numeric_training_data.columns)"
   ]
  },
  {
   "cell_type": "code",
   "execution_count": 116,
   "metadata": {},
   "outputs": [],
   "source": [
    "# membuat objek/model regresi logistik\n",
    "\n",
    "h1n1_model = LogisticRegression()\n",
    "seasonal_model = LogisticRegression()"
   ]
  },
  {
   "cell_type": "code",
   "execution_count": 117,
   "metadata": {},
   "outputs": [
    {
     "name": "stderr",
     "output_type": "stream",
     "text": [
      "c:\\users\\faris\\anaconda3\\envs\\mytfenv_udemy\\lib\\site-packages\\sklearn\\linear_model\\logistic.py:432: FutureWarning: Default solver will be changed to 'lbfgs' in 0.22. Specify a solver to silence this warning.\n",
      "  FutureWarning)\n",
      "c:\\users\\faris\\anaconda3\\envs\\mytfenv_udemy\\lib\\site-packages\\sklearn\\linear_model\\logistic.py:432: FutureWarning: Default solver will be changed to 'lbfgs' in 0.22. Specify a solver to silence this warning.\n",
      "  FutureWarning)\n"
     ]
    },
    {
     "data": {
      "text/plain": [
       "LogisticRegression(C=1.0, class_weight=None, dual=False, fit_intercept=True,\n",
       "                   intercept_scaling=1, l1_ratio=None, max_iter=100,\n",
       "                   multi_class='warn', n_jobs=None, penalty='l2',\n",
       "                   random_state=None, solver='warn', tol=0.0001, verbose=0,\n",
       "                   warm_start=False)"
      ]
     },
     "execution_count": 117,
     "metadata": {},
     "output_type": "execute_result"
    }
   ],
   "source": [
    "# melakukan fit terhadap model\n",
    "\n",
    "h1n1_model.fit(train_num_imp, train_labels['h1n1_vaccine'])\n",
    "seasonal_model.fit(train_num_imp, train_labels['seasonal_vaccine'])"
   ]
  },
  {
   "cell_type": "markdown",
   "metadata": {},
   "source": [
    "Setelah membuat model, kita akan mencari tahu mana variabel yang memiliki pengaruh terbesar pada model regresi logistik dari vaksin H1N1 dan vaksin flu."
   ]
  },
  {
   "cell_type": "code",
   "execution_count": 118,
   "metadata": {},
   "outputs": [
    {
     "data": {
      "text/plain": [
       "array([[-9.62887379e-02,  1.54189794e-01,  1.16737884e-01,\n",
       "        -3.99103800e-02,  1.72279771e-01, -6.47165942e-03,\n",
       "        -1.98043050e-01, -3.02626112e-02,  3.46898273e-02,\n",
       "         1.96815614e+00, -4.11624406e-01,  1.09698257e-01,\n",
       "         2.03827202e-01,  7.32284943e-01,  2.97160713e-01,\n",
       "         6.03304926e-01,  3.48549645e-01, -1.75072083e-02,\n",
       "         9.95638596e-02,  1.49235541e-01, -8.88699075e-02,\n",
       "        -1.71929076e-03, -1.05249764e-01]])"
      ]
     },
     "execution_count": 118,
     "metadata": {},
     "output_type": "execute_result"
    }
   ],
   "source": [
    "h1n1_model.coef_"
   ]
  },
  {
   "cell_type": "code",
   "execution_count": 119,
   "metadata": {},
   "outputs": [],
   "source": [
    "# Menyamakan koefisien variabel kepada variabel-nya masing-masing\n",
    "\n",
    "feature_dict = dict(zip(numeric_training_data.columns, list(h1n1_model.coef_[0])))"
   ]
  },
  {
   "cell_type": "code",
   "execution_count": 120,
   "metadata": {},
   "outputs": [
    {
     "data": {
      "text/plain": [
       "{'h1n1_concern': -0.09628873789430335,\n",
       " 'h1n1_knowledge': 0.15418979390042561,\n",
       " 'behavioral_antiviral_meds': 0.11673788416052219,\n",
       " 'behavioral_avoidance': -0.03991037999151154,\n",
       " 'behavioral_face_mask': 0.17227977058868327,\n",
       " 'behavioral_wash_hands': -0.006471659417328721,\n",
       " 'behavioral_large_gatherings': -0.1980430502101246,\n",
       " 'behavioral_outside_home': -0.03026261119079437,\n",
       " 'behavioral_touch_face': 0.034689827291320814,\n",
       " 'doctor_recc_h1n1': 1.9681561391440128,\n",
       " 'doctor_recc_seasonal': -0.41162440633537484,\n",
       " 'chronic_med_condition': 0.10969825684004446,\n",
       " 'child_under_6_months': 0.20382720244519206,\n",
       " 'health_worker': 0.7322849429996692,\n",
       " 'health_insurance': 0.2971607133498883,\n",
       " 'opinion_h1n1_vacc_effective': 0.603304925845375,\n",
       " 'opinion_h1n1_risk': 0.3485496449237933,\n",
       " 'opinion_h1n1_sick_from_vacc': -0.01750720831812673,\n",
       " 'opinion_seas_vacc_effective': 0.09956385955862924,\n",
       " 'opinion_seas_risk': 0.14923554067235437,\n",
       " 'opinion_seas_sick_from_vacc': -0.08886990751750817,\n",
       " 'household_adults': -0.001719290761492875,\n",
       " 'household_children': -0.10524976376364187}"
      ]
     },
     "execution_count": 120,
     "metadata": {},
     "output_type": "execute_result"
    }
   ],
   "source": [
    "feature_dict"
   ]
  },
  {
   "cell_type": "code",
   "execution_count": 121,
   "metadata": {},
   "outputs": [
    {
     "data": {
      "image/png": "[encoded data removed]",
      "text/plain": [
       "<Figure size 432x288 with 1 Axes>"
      ]
     },
     "metadata": {},
     "output_type": "display_data"
    }
   ],
   "source": [
    "# Visualisasi variabel paling berpengaruh\n",
    "\n",
    "feature_df = pd.DataFrame(feature_dict, index=[0])\n",
    "feature_df.T.plot.bar(title=\"Feature Importance\", legend=False);"
   ]
  },
  {
   "cell_type": "code",
   "execution_count": null,
   "metadata": {},
   "outputs": [],
   "source": []
  },
  {
   "cell_type": "code",
   "execution_count": 122,
   "metadata": {},
   "outputs": [
    {
     "data": {
      "text/plain": [
       "array([[ 0.03600025,  0.1836742 , -0.06917695, -0.04368537,  0.01508583,\n",
       "         0.0684763 ,  0.0052587 , -0.02430976,  0.24837293, -0.33753823,\n",
       "         1.54451357,  0.34284607, -0.02750328,  0.68859112,  0.90378238,\n",
       "         0.00322608,  0.00462562, -0.06856604,  0.5901782 ,  0.51428204,\n",
       "        -0.22196777, -0.11832277, -0.24183171]])"
      ]
     },
     "execution_count": 122,
     "metadata": {},
     "output_type": "execute_result"
    }
   ],
   "source": [
    "seasonal_model.coef_"
   ]
  },
  {
   "cell_type": "code",
   "execution_count": 123,
   "metadata": {},
   "outputs": [],
   "source": [
    "# Menyamakan koefisien variabel kepada variabel-nya masing-masing\n",
    "\n",
    "feature_dict_flu = dict(zip(numeric_training_data.columns, list(seasonal_model.coef_[0])))"
   ]
  },
  {
   "cell_type": "code",
   "execution_count": 124,
   "metadata": {},
   "outputs": [
    {
     "data": {
      "text/plain": [
       "{'h1n1_concern': 0.036000253392089156,\n",
       " 'h1n1_knowledge': 0.18367420382266508,\n",
       " 'behavioral_antiviral_meds': -0.06917695210763049,\n",
       " 'behavioral_avoidance': -0.0436853700517311,\n",
       " 'behavioral_face_mask': 0.01508583166808891,\n",
       " 'behavioral_wash_hands': 0.06847630173332885,\n",
       " 'behavioral_large_gatherings': 0.005258699455663123,\n",
       " 'behavioral_outside_home': -0.024309761861037386,\n",
       " 'behavioral_touch_face': 0.24837292739528236,\n",
       " 'doctor_recc_h1n1': -0.33753823016942885,\n",
       " 'doctor_recc_seasonal': 1.5445135660177702,\n",
       " 'chronic_med_condition': 0.3428460700174067,\n",
       " 'child_under_6_months': -0.0275032837299713,\n",
       " 'health_worker': 0.6885911171800387,\n",
       " 'health_insurance': 0.9037823793955142,\n",
       " 'opinion_h1n1_vacc_effective': 0.003226084853626118,\n",
       " 'opinion_h1n1_risk': 0.004625623268911835,\n",
       " 'opinion_h1n1_sick_from_vacc': -0.06856604497868866,\n",
       " 'opinion_seas_vacc_effective': 0.5901781959335721,\n",
       " 'opinion_seas_risk': 0.5142820380012871,\n",
       " 'opinion_seas_sick_from_vacc': -0.22196776800336723,\n",
       " 'household_adults': -0.11832276808133625,\n",
       " 'household_children': -0.24183171162689193}"
      ]
     },
     "execution_count": 124,
     "metadata": {},
     "output_type": "execute_result"
    }
   ],
   "source": [
    "feature_dict_flu"
   ]
  },
  {
   "cell_type": "code",
   "execution_count": 125,
   "metadata": {
    "scrolled": true
   },
   "outputs": [
    {
     "data": {
      "image/png": "[encoded data removed]",
      "text/plain": [
       "<Figure size 432x288 with 1 Axes>"
      ]
     },
     "metadata": {},
     "output_type": "display_data"
    }
   ],
   "source": [
    "# Visualisasi variabel paling berpengaruh\n",
    "\n",
    "feature_df_flu = pd.DataFrame(feature_dict_flu, index=[0])\n",
    "feature_df_flu.T.plot.bar(title=\"Feature Importance\", legend=False);"
   ]
  },
  {
   "cell_type": "code",
   "execution_count": 126,
   "metadata": {},
   "outputs": [
    {
     "data": {
      "text/html": [
       "<div>\n",
       "<style scoped>\n",
       "    .dataframe tbody tr th:only-of-type {\n",
       "        vertical-align: middle;\n",
       "    }\n",
       "\n",
       "    .dataframe tbody tr th {\n",
       "        vertical-align: top;\n",
       "    }\n",
       "\n",
       "    .dataframe thead th {\n",
       "        text-align: right;\n",
       "    }\n",
       "</style>\n",
       "<table border=\"1\" class=\"dataframe\">\n",
       "  <thead>\n",
       "    <tr style=\"text-align: right;\">\n",
       "      <th>opinion_seas_risk</th>\n",
       "      <th>1.0</th>\n",
       "      <th>2.0</th>\n",
       "      <th>3.0</th>\n",
       "      <th>4.0</th>\n",
       "      <th>5.0</th>\n",
       "    </tr>\n",
       "    <tr>\n",
       "      <th>doctor_recc_seasonal</th>\n",
       "      <th></th>\n",
       "      <th></th>\n",
       "      <th></th>\n",
       "      <th></th>\n",
       "      <th></th>\n",
       "    </tr>\n",
       "  </thead>\n",
       "  <tbody>\n",
       "    <tr>\n",
       "      <th>0.0</th>\n",
       "      <td>0.274085</td>\n",
       "      <td>0.373388</td>\n",
       "      <td>0.024687</td>\n",
       "      <td>0.246066</td>\n",
       "      <td>0.081775</td>\n",
       "    </tr>\n",
       "    <tr>\n",
       "      <th>1.0</th>\n",
       "      <td>0.135767</td>\n",
       "      <td>0.274659</td>\n",
       "      <td>0.025128</td>\n",
       "      <td>0.386798</td>\n",
       "      <td>0.177647</td>\n",
       "    </tr>\n",
       "    <tr>\n",
       "      <th>All</th>\n",
       "      <td>0.228370</td>\n",
       "      <td>0.340757</td>\n",
       "      <td>0.024833</td>\n",
       "      <td>0.292579</td>\n",
       "      <td>0.113462</td>\n",
       "    </tr>\n",
       "  </tbody>\n",
       "</table>\n",
       "</div>"
      ],
      "text/plain": [
       "opinion_seas_risk          1.0       2.0       3.0       4.0       5.0\n",
       "doctor_recc_seasonal                                                  \n",
       "0.0                   0.274085  0.373388  0.024687  0.246066  0.081775\n",
       "1.0                   0.135767  0.274659  0.025128  0.386798  0.177647\n",
       "All                   0.228370  0.340757  0.024833  0.292579  0.113462"
      ]
     },
     "execution_count": 126,
     "metadata": {},
     "output_type": "execute_result"
    }
   ],
   "source": [
    "# bagaimana pendapat setiap individu mengenai risiko flu berhubungan dengan rekomendasi dokter untuk menerima vaksin\n",
    "\n",
    "pd.crosstab(train['doctor_recc_seasonal'], train['opinion_seas_risk'], margins = True,\n",
    "           normalize = \"index\")"
   ]
  },
  {
   "cell_type": "code",
   "execution_count": 127,
   "metadata": {},
   "outputs": [
    {
     "data": {
      "text/html": [
       "<div>\n",
       "<style scoped>\n",
       "    .dataframe tbody tr th:only-of-type {\n",
       "        vertical-align: middle;\n",
       "    }\n",
       "\n",
       "    .dataframe tbody tr th {\n",
       "        vertical-align: top;\n",
       "    }\n",
       "\n",
       "    .dataframe thead th {\n",
       "        text-align: right;\n",
       "    }\n",
       "</style>\n",
       "<table border=\"1\" class=\"dataframe\">\n",
       "  <thead>\n",
       "    <tr style=\"text-align: right;\">\n",
       "      <th>opinion_seas_vacc_effective</th>\n",
       "      <th>1.0</th>\n",
       "      <th>2.0</th>\n",
       "      <th>3.0</th>\n",
       "      <th>4.0</th>\n",
       "      <th>5.0</th>\n",
       "    </tr>\n",
       "    <tr>\n",
       "      <th>doctor_recc_seasonal</th>\n",
       "      <th></th>\n",
       "      <th></th>\n",
       "      <th></th>\n",
       "      <th></th>\n",
       "      <th></th>\n",
       "    </tr>\n",
       "  </thead>\n",
       "  <tbody>\n",
       "    <tr>\n",
       "      <th>0.0</th>\n",
       "      <td>0.054532</td>\n",
       "      <td>0.100499</td>\n",
       "      <td>0.056565</td>\n",
       "      <td>0.475199</td>\n",
       "      <td>0.313205</td>\n",
       "    </tr>\n",
       "    <tr>\n",
       "      <th>1.0</th>\n",
       "      <td>0.029173</td>\n",
       "      <td>0.049869</td>\n",
       "      <td>0.022067</td>\n",
       "      <td>0.380626</td>\n",
       "      <td>0.518265</td>\n",
       "    </tr>\n",
       "    <tr>\n",
       "      <th>All</th>\n",
       "      <td>0.046144</td>\n",
       "      <td>0.083753</td>\n",
       "      <td>0.045155</td>\n",
       "      <td>0.443918</td>\n",
       "      <td>0.381031</td>\n",
       "    </tr>\n",
       "  </tbody>\n",
       "</table>\n",
       "</div>"
      ],
      "text/plain": [
       "opinion_seas_vacc_effective       1.0       2.0       3.0       4.0       5.0\n",
       "doctor_recc_seasonal                                                         \n",
       "0.0                          0.054532  0.100499  0.056565  0.475199  0.313205\n",
       "1.0                          0.029173  0.049869  0.022067  0.380626  0.518265\n",
       "All                          0.046144  0.083753  0.045155  0.443918  0.381031"
      ]
     },
     "execution_count": 127,
     "metadata": {},
     "output_type": "execute_result"
    }
   ],
   "source": [
    "pd.crosstab(train[\"doctor_recc_seasonal\"], train[\"opinion_seas_vacc_effective\"], margins = True,\n",
    "           normalize = \"index\")"
   ]
  },
  {
   "cell_type": "markdown",
   "metadata": {},
   "source": [
    "Kesimpulan:\n",
    "\n",
    "Setelah membuat grafik mengenai faktor yang baling berpengaruh pada pembuatan model, kita mendapati kesimpulan yang serupa antara dua model vaksin H1N1 dan vaksin flu musiman. Sejauh ini variabel yang paling berpengaruh dari dua model yang kita buat adalah rekomendasi dari dokter. Rekomendasi ini juga memiliki korelasi dengan bagaimana setiap individu memberikan opininya terhadap risiko  virus terhadap dirinya dan efektivitas vaksin flu musiman (meskipun belum tentu ada kausalitas / nampaknya tidak ada kausalitas). Dari tabel dan grafik yang dibuat mengenai relasi antara rekomendasi dokter dan opini, lebih mudahnya kita bisa menyimpulkannya dalam bentuk kalimat sebagai \"jika dokter merekomendasikan vaksin flu musiman, individu/partisipan/responden akan lebih percaya bahwa mereka mempunyai risiko tinggi untuk terpapar virus dan jatuh sakit, membuat mereka berpikir bahwa vaksin akan lebih efektif pada mereka.\"\n",
    "\n",
    "Ada dua variabel yang menarik dan dapat dikadi lebih jauh yaitu mengenai pekerja medis dan orang yang memiliki asuransi kesehatan. Nampaknya dua variabel tersebut memiliki korelasi positif yang cukup kuat terhadap kemungkinan menerima vaksin.\n",
    "\n",
    "Mari kita lihat hubungan variabel target dengan mereka yang memiliki asuransi kesehatan:"
   ]
  },
  {
   "cell_type": "code",
   "execution_count": 128,
   "metadata": {},
   "outputs": [
    {
     "data": {
      "text/html": [
       "<div>\n",
       "<style scoped>\n",
       "    .dataframe tbody tr th:only-of-type {\n",
       "        vertical-align: middle;\n",
       "    }\n",
       "\n",
       "    .dataframe tbody tr th {\n",
       "        vertical-align: top;\n",
       "    }\n",
       "\n",
       "    .dataframe thead th {\n",
       "        text-align: right;\n",
       "    }\n",
       "</style>\n",
       "<table border=\"1\" class=\"dataframe\">\n",
       "  <thead>\n",
       "    <tr style=\"text-align: right;\">\n",
       "      <th>seasonal_vaccine</th>\n",
       "      <th>0</th>\n",
       "      <th>1</th>\n",
       "    </tr>\n",
       "    <tr>\n",
       "      <th>health_insurance</th>\n",
       "      <th></th>\n",
       "      <th></th>\n",
       "    </tr>\n",
       "  </thead>\n",
       "  <tbody>\n",
       "    <tr>\n",
       "      <th>0.0</th>\n",
       "      <td>0.770737</td>\n",
       "      <td>0.229263</td>\n",
       "    </tr>\n",
       "    <tr>\n",
       "      <th>1.0</th>\n",
       "      <td>0.461999</td>\n",
       "      <td>0.538001</td>\n",
       "    </tr>\n",
       "    <tr>\n",
       "      <th>All</th>\n",
       "      <td>0.499134</td>\n",
       "      <td>0.500866</td>\n",
       "    </tr>\n",
       "  </tbody>\n",
       "</table>\n",
       "</div>"
      ],
      "text/plain": [
       "seasonal_vaccine         0         1\n",
       "health_insurance                    \n",
       "0.0               0.770737  0.229263\n",
       "1.0               0.461999  0.538001\n",
       "All               0.499134  0.500866"
      ]
     },
     "execution_count": 128,
     "metadata": {},
     "output_type": "execute_result"
    }
   ],
   "source": [
    "pd.crosstab(train[\"health_insurance\"], train_labels[\"seasonal_vaccine\"], margins=True,\n",
    "           normalize=\"index\")"
   ]
  },
  {
   "cell_type": "code",
   "execution_count": 129,
   "metadata": {},
   "outputs": [
    {
     "data": {
      "text/plain": [
       "1.0    12697\n",
       "0.0     1736\n",
       "Name: health_insurance, dtype: int64"
      ]
     },
     "execution_count": 129,
     "metadata": {},
     "output_type": "execute_result"
    }
   ],
   "source": [
    "train[\"health_insurance\"].value_counts()"
   ]
  },
  {
   "cell_type": "code",
   "execution_count": 130,
   "metadata": {},
   "outputs": [
    {
     "data": {
      "text/html": [
       "<div>\n",
       "<style scoped>\n",
       "    .dataframe tbody tr th:only-of-type {\n",
       "        vertical-align: middle;\n",
       "    }\n",
       "\n",
       "    .dataframe tbody tr th {\n",
       "        vertical-align: top;\n",
       "    }\n",
       "\n",
       "    .dataframe thead th {\n",
       "        text-align: right;\n",
       "    }\n",
       "</style>\n",
       "<table border=\"1\" class=\"dataframe\">\n",
       "  <thead>\n",
       "    <tr style=\"text-align: right;\">\n",
       "      <th>seasonal_vaccine</th>\n",
       "      <th>0</th>\n",
       "      <th>1</th>\n",
       "    </tr>\n",
       "    <tr>\n",
       "      <th>health_worker</th>\n",
       "      <th></th>\n",
       "      <th></th>\n",
       "    </tr>\n",
       "  </thead>\n",
       "  <tbody>\n",
       "    <tr>\n",
       "      <th>0.0</th>\n",
       "      <td>0.554382</td>\n",
       "      <td>0.445618</td>\n",
       "    </tr>\n",
       "    <tr>\n",
       "      <th>1.0</th>\n",
       "      <td>0.352880</td>\n",
       "      <td>0.647120</td>\n",
       "    </tr>\n",
       "    <tr>\n",
       "      <th>All</th>\n",
       "      <td>0.531830</td>\n",
       "      <td>0.468170</td>\n",
       "    </tr>\n",
       "  </tbody>\n",
       "</table>\n",
       "</div>"
      ],
      "text/plain": [
       "seasonal_vaccine         0         1\n",
       "health_worker                       \n",
       "0.0               0.554382  0.445618\n",
       "1.0               0.352880  0.647120\n",
       "All               0.531830  0.468170"
      ]
     },
     "execution_count": 130,
     "metadata": {},
     "output_type": "execute_result"
    }
   ],
   "source": [
    "pd.crosstab(train[\"health_worker\"], train_labels[\"seasonal_vaccine\"],margins=True,\n",
    "           normalize=\"index\")"
   ]
  },
  {
   "cell_type": "code",
   "execution_count": 131,
   "metadata": {},
   "outputs": [
    {
     "data": {
      "text/plain": [
       "0.0    23004\n",
       "1.0     2899\n",
       "Name: health_worker, dtype: int64"
      ]
     },
     "execution_count": 131,
     "metadata": {},
     "output_type": "execute_result"
    }
   ],
   "source": [
    "train[\"health_worker\"].value_counts()"
   ]
  },
  {
   "cell_type": "code",
   "execution_count": 132,
   "metadata": {},
   "outputs": [
    {
     "data": {
      "text/html": [
       "<div>\n",
       "<style scoped>\n",
       "    .dataframe tbody tr th:only-of-type {\n",
       "        vertical-align: middle;\n",
       "    }\n",
       "\n",
       "    .dataframe tbody tr th {\n",
       "        vertical-align: top;\n",
       "    }\n",
       "\n",
       "    .dataframe thead th {\n",
       "        text-align: right;\n",
       "    }\n",
       "</style>\n",
       "<table border=\"1\" class=\"dataframe\">\n",
       "  <thead>\n",
       "    <tr style=\"text-align: right;\">\n",
       "      <th>seasonal_vaccine</th>\n",
       "      <th>0</th>\n",
       "      <th>1</th>\n",
       "    </tr>\n",
       "    <tr>\n",
       "      <th>health_worker</th>\n",
       "      <th></th>\n",
       "      <th></th>\n",
       "    </tr>\n",
       "  </thead>\n",
       "  <tbody>\n",
       "    <tr>\n",
       "      <th>0.0</th>\n",
       "      <td>12753</td>\n",
       "      <td>10251</td>\n",
       "    </tr>\n",
       "    <tr>\n",
       "      <th>1.0</th>\n",
       "      <td>1023</td>\n",
       "      <td>1876</td>\n",
       "    </tr>\n",
       "  </tbody>\n",
       "</table>\n",
       "</div>"
      ],
      "text/plain": [
       "seasonal_vaccine      0      1\n",
       "health_worker                 \n",
       "0.0               12753  10251\n",
       "1.0                1023   1876"
      ]
     },
     "execution_count": 132,
     "metadata": {},
     "output_type": "execute_result"
    }
   ],
   "source": [
    "pd.crosstab(train[\"health_worker\"], train_labels[\"seasonal_vaccine\"])"
   ]
  },
  {
   "cell_type": "markdown",
   "metadata": {},
   "source": [
    "Kita dapat melihat bahwa proporsi dari pekerja medis tidak seimbang ketika dihubungkan/direlasikan dengan kemungkinan menerima vaksin flu musiman, yang disebut dalam istilah statistik sebagai skewed. Ada 88% responden yang memiliki asuransi kesehatan, dari responden yang memiliki asuransi kesehatan, 11% responden adalah pekerja medis. Kita dapat melakukan tes statistik / pemeriksaan statistik untuk melihat apakah perbedaan ini signifikan ataukah tidak melalui metode tes chi square.\n",
    "\n",
    "Hipotesa awal / perkiraan awal adalah asumsi bahwa menerima vaksin flu musiman tidak memiliki relasi / berhubungan dengan apakah seseorang itu memiliki asuransi kesehatan atau apakah seseorang itu merupakan pekerja medis. Karenanya, kita menentukan nilai yang diharapkan sebesar 0.5 proporsi individual setiap kolom / barisnya. Sebagai contoh, jiks 10% pekerja medis, kita menganggap/berharap/memprediksi nilai 0.5 (angka total dari partisipan) individu akan mendapatkan vaksin. Kita berasumsi sama / serupa untuk individu yang tidak mendapatkan vaksin, karena kita memiliki asumsi bahwa kemungkinan seseorang mendapatkan vaksin tidak tergantung dari statusnya.\n",
    "\n",
    "Mari kita mulai melihat pengamatan kita terhadap variabel asuransi kesehatan dan relasinya dengan kemungkinan menerima vaksin."
   ]
  },
  {
   "cell_type": "code",
   "execution_count": 133,
   "metadata": {},
   "outputs": [
    {
     "data": {
      "text/html": [
       "<div>\n",
       "<style scoped>\n",
       "    .dataframe tbody tr th:only-of-type {\n",
       "        vertical-align: middle;\n",
       "    }\n",
       "\n",
       "    .dataframe tbody tr th {\n",
       "        vertical-align: top;\n",
       "    }\n",
       "\n",
       "    .dataframe thead th {\n",
       "        text-align: right;\n",
       "    }\n",
       "</style>\n",
       "<table border=\"1\" class=\"dataframe\">\n",
       "  <thead>\n",
       "    <tr style=\"text-align: right;\">\n",
       "      <th>seasonal_vaccine</th>\n",
       "      <th>0</th>\n",
       "      <th>1</th>\n",
       "    </tr>\n",
       "    <tr>\n",
       "      <th>health_insurance</th>\n",
       "      <th></th>\n",
       "      <th></th>\n",
       "    </tr>\n",
       "  </thead>\n",
       "  <tbody>\n",
       "    <tr>\n",
       "      <th>0.0</th>\n",
       "      <td>1338</td>\n",
       "      <td>398</td>\n",
       "    </tr>\n",
       "    <tr>\n",
       "      <th>1.0</th>\n",
       "      <td>5866</td>\n",
       "      <td>6831</td>\n",
       "    </tr>\n",
       "  </tbody>\n",
       "</table>\n",
       "</div>"
      ],
      "text/plain": [
       "seasonal_vaccine     0     1\n",
       "health_insurance            \n",
       "0.0               1338   398\n",
       "1.0               5866  6831"
      ]
     },
     "execution_count": 133,
     "metadata": {},
     "output_type": "execute_result"
    }
   ],
   "source": [
    "# observasi aktual\n",
    "\n",
    "pd.crosstab(train[\"health_insurance\"], train_labels[\"seasonal_vaccine\"])"
   ]
  },
  {
   "cell_type": "code",
   "execution_count": 134,
   "metadata": {},
   "outputs": [
    {
     "name": "stdout",
     "output_type": "stream",
     "text": [
      "[[868.0, 868.0], [6348.5, 6348.5]]\n"
     ]
    }
   ],
   "source": [
    "# hasil yang diharapkan\n",
    "expected_counts_health_insurance = [[0.5 * (train['health_insurance'].value_counts()[0] / train['health_insurance'].value_counts().sum()) * train['health_insurance'].value_counts().sum(), \n",
    "                                     0.5 * (train['health_insurance'].value_counts()[0] / train['health_insurance'].value_counts().sum()) * train['health_insurance'].value_counts().sum()], \n",
    "                                    [0.5 * (train['health_insurance'].value_counts()[1] / train['health_insurance'].value_counts().sum()) * train['health_insurance'].value_counts().sum(), \n",
    "                                     0.5 * (train['health_insurance'].value_counts()[1] / train['health_insurance'].value_counts().sum()) * train['health_insurance'].value_counts().sum()]]\n",
    "print(expected_counts_health_insurance)"
   ]
  },
  {
   "cell_type": "code",
   "execution_count": 135,
   "metadata": {},
   "outputs": [
    {
     "data": {
      "text/plain": [
       "Power_divergenceResult(statistic=array([291.16415159, 291.16415159]), pvalue=array([2.77268124e-65, 2.77268124e-65]))"
      ]
     },
     "execution_count": 135,
     "metadata": {},
     "output_type": "execute_result"
    }
   ],
   "source": [
    "# bagaimana relasi/hubungan asuransi kesehatan dengan kemungkinan menerima vaksin flu musiman\n",
    "\n",
    "scipy.stats.chisquare(pd.crosstab(train[\"health_insurance\"],\n",
    "                                 train_labels[\"seasonal_vaccine\"]),\n",
    "                     f_exp=expected_counts_health_insurance)"
   ]
  },
  {
   "cell_type": "markdown",
   "metadata": {},
   "source": [
    "Sekarang kita lihat variabel status individu sebagai pekerja medis dan hubungannya dengan kemungkinan menerima vaksin flu musiman."
   ]
  },
  {
   "cell_type": "code",
   "execution_count": 136,
   "metadata": {},
   "outputs": [
    {
     "data": {
      "text/html": [
       "<div>\n",
       "<style scoped>\n",
       "    .dataframe tbody tr th:only-of-type {\n",
       "        vertical-align: middle;\n",
       "    }\n",
       "\n",
       "    .dataframe tbody tr th {\n",
       "        vertical-align: top;\n",
       "    }\n",
       "\n",
       "    .dataframe thead th {\n",
       "        text-align: right;\n",
       "    }\n",
       "</style>\n",
       "<table border=\"1\" class=\"dataframe\">\n",
       "  <thead>\n",
       "    <tr style=\"text-align: right;\">\n",
       "      <th>seasonal_vaccine</th>\n",
       "      <th>0</th>\n",
       "      <th>1</th>\n",
       "    </tr>\n",
       "    <tr>\n",
       "      <th>health_worker</th>\n",
       "      <th></th>\n",
       "      <th></th>\n",
       "    </tr>\n",
       "  </thead>\n",
       "  <tbody>\n",
       "    <tr>\n",
       "      <th>0.0</th>\n",
       "      <td>12753</td>\n",
       "      <td>10251</td>\n",
       "    </tr>\n",
       "    <tr>\n",
       "      <th>1.0</th>\n",
       "      <td>1023</td>\n",
       "      <td>1876</td>\n",
       "    </tr>\n",
       "  </tbody>\n",
       "</table>\n",
       "</div>"
      ],
      "text/plain": [
       "seasonal_vaccine      0      1\n",
       "health_worker                 \n",
       "0.0               12753  10251\n",
       "1.0                1023   1876"
      ]
     },
     "execution_count": 136,
     "metadata": {},
     "output_type": "execute_result"
    }
   ],
   "source": [
    "# observasi aktual\n",
    "\n",
    "pd.crosstab(train[\"health_worker\"], train_labels[\"seasonal_vaccine\"])"
   ]
  },
  {
   "cell_type": "code",
   "execution_count": 137,
   "metadata": {},
   "outputs": [
    {
     "name": "stdout",
     "output_type": "stream",
     "text": [
      "[[11502.0, 11502.0], [1449.5, 1449.5]]\n"
     ]
    }
   ],
   "source": [
    "# hasil yang diharapkan\n",
    "\n",
    "expected_counts_health_worker = [[0.5 * (train['health_worker'].value_counts()[0] / train['health_worker'].value_counts().sum()) * train['health_worker'].value_counts().sum(), \n",
    "                                  0.5 * (train['health_worker'].value_counts()[0] / train['health_worker'].value_counts().sum()) * train['health_worker'].value_counts().sum()], \n",
    "                                 [0.5 * (train['health_worker'].value_counts()[1] / train['health_worker'].value_counts().sum()) * train['health_worker'].value_counts().sum(), \n",
    "                                  0.5 * (train['health_worker'].value_counts()[1] / train['health_worker'].value_counts().sum()) * train['health_worker'].value_counts().sum()]]\n",
    "print(expected_counts_health_worker)"
   ]
  },
  {
   "cell_type": "code",
   "execution_count": 138,
   "metadata": {},
   "outputs": [
    {
     "data": {
      "text/plain": [
       "Power_divergenceResult(statistic=array([261.55648135, 261.55648135]), pvalue=array([7.85677282e-59, 7.85677282e-59]))"
      ]
     },
     "execution_count": 138,
     "metadata": {},
     "output_type": "execute_result"
    }
   ],
   "source": [
    "# bagaimana relasi/hubungan status sebagai pekerja medis dengan kemungkinan menerima vaksin flu musiman\n",
    "\n",
    "scipy.stats.chisquare(pd.crosstab(train[\"health_worker\"],\n",
    "                                 train_labels[\"seasonal_vaccine\"]),\n",
    "                     f_exp = expected_counts_health_worker)"
   ]
  },
  {
   "cell_type": "markdown",
   "metadata": {},
   "source": [
    "Catatan : \n",
    "\n",
    "Dengan dibantu oleh tes chi-square, kita melihat bahwa memiliki asuransi kesehatan atau berstatus sebagai pekerja medis secara signifikan berpengaruh/memiliki pengaruh terhadap kemungkinan menerima vaksin flu musiman (tapi hal ini tidak menunjukkan ke arah mana pendulum probabilitas itu mengarah, tetapi menunjukkan bahwa setidaknya ada hubungan yang signifikan). Dari melihat tabel di atas, kita mengamati bahwa jika suatu individu tidak memiliki asuransi kesehatan, mereka akan lebih kecil peluangnya untuk menerima vaksin flu musiman (dan jika mereka memiliki asuransi kesehatan, mereka akan lebih berpeluang menerima vaksin). Kita juga mengamati bahwa jika suatu individu bukan berstatus sebagai pekerja medis, mereka akan lebih kecil peluangnya menerima vaksin (tetapi jika mereka berstatus sebagai pekerja medis, akan berpeluang lebih besar dalam menerima vaksin).\n",
    "\n",
    "Informasi ini seakan mencoba mengisyaratkan bahwa mungkin salah satu cara untuk mempromosikan / mengkampanyekan vaksin flu musiman adalah dengan menyediakan akses yang lebih mudah untuk menerima vaksin bagi mereka yang tidak memiliki asuransi kesehatan.\n",
    "\n",
    "Tapi, apakah hasil di atas dapat juga berarti bahwa individu yang tidak memiliki asuransi kesehatan akan jarang menemui/bertemu dengan dokter? Kita tidak memiliki pertanyaan yangs secara langsung menjawab ini, namun kita dapat berhipotesa bahwa hal ini dapat menjelaskan observasi yang kita lakukan.\n",
    "\n",
    "Artikel di bawah ini tampaknya menyimpulkan bahwa, sebagaimana yang kita duga, individu dengan tanpa asuransi kesehatan akan lebih jarang menemui dokter.\n",
    "\n",
    "1. https://www.kff.org/uninsured/issue-brief/key-facts-about-the-uninsured-population/\n",
    "2. https://www.ncbi.nlm.nih.gov/pmc/articles/PMC4351276/\n",
    "\n",
    "Karenanya, saya memiliki dugaan/menduga bahwa jika individu dengan tanpa asuransi kesehatan dapat menemui dokter, mereka akan lebih berpeluang untuk menerima vaksin flu musiman (jika akses terhadap dokter masih dapat mereka jangkau, yang mana hal ini merupakan kerumitan yang mesti dipertimbangkan pula). Hipotesa awal saya akan seperti ini bunyinya, \"dampak observasi yang telah kita lakukan (yaitu individu dengan asuransi kesehatan akan lebih kecil peluangnya menerima vaksin flu musiman) akan berpeluang besar menerima vaksin jika mereka didorong dan diberikan kesempatan untuk menjumpai dokter.\n",
    "\n",
    "Pada tabel di bawah, kita melihat bahwa individu yang tak memiliki asuransi kesehatan dan disarankan untuk menerima vaksin flu musiman hanya 19% dari keseluruhan. Sementara individu yang memiliki asuransi disarankan untuk menerima vaksin flu musiman sebesar 37% dari keseluruhan. \n",
    "\n",
    "Pengecualian terhadap ukuran-ukuran semacam kondisi kesehatan, tampaknya satu-satunya perbedaan yang relevan antara dua kelompok ini adalah mereka yang tak memiliki asuransi kesehatan akan memiliki peluang lebih kecil untuk menemui dokter."
   ]
  },
  {
   "cell_type": "code",
   "execution_count": 139,
   "metadata": {},
   "outputs": [
    {
     "data": {
      "text/html": [
       "<div>\n",
       "<style scoped>\n",
       "    .dataframe tbody tr th:only-of-type {\n",
       "        vertical-align: middle;\n",
       "    }\n",
       "\n",
       "    .dataframe tbody tr th {\n",
       "        vertical-align: top;\n",
       "    }\n",
       "\n",
       "    .dataframe thead th {\n",
       "        text-align: right;\n",
       "    }\n",
       "</style>\n",
       "<table border=\"1\" class=\"dataframe\">\n",
       "  <thead>\n",
       "    <tr style=\"text-align: right;\">\n",
       "      <th>doctor_recc_seasonal</th>\n",
       "      <th>0.0</th>\n",
       "      <th>1.0</th>\n",
       "    </tr>\n",
       "    <tr>\n",
       "      <th>health_insurance</th>\n",
       "      <th></th>\n",
       "      <th></th>\n",
       "    </tr>\n",
       "  </thead>\n",
       "  <tbody>\n",
       "    <tr>\n",
       "      <th>0.0</th>\n",
       "      <td>0.805539</td>\n",
       "      <td>0.194461</td>\n",
       "    </tr>\n",
       "    <tr>\n",
       "      <th>1.0</th>\n",
       "      <td>0.634497</td>\n",
       "      <td>0.365503</td>\n",
       "    </tr>\n",
       "  </tbody>\n",
       "</table>\n",
       "</div>"
      ],
      "text/plain": [
       "doctor_recc_seasonal       0.0       1.0\n",
       "health_insurance                        \n",
       "0.0                   0.805539  0.194461\n",
       "1.0                   0.634497  0.365503"
      ]
     },
     "execution_count": 139,
     "metadata": {},
     "output_type": "execute_result"
    }
   ],
   "source": [
    "pd.crosstab(train[\"health_insurance\"], train[\"doctor_recc_seasonal\"], normalize=\"index\")"
   ]
  },
  {
   "cell_type": "code",
   "execution_count": 140,
   "metadata": {},
   "outputs": [
    {
     "name": "stdout",
     "output_type": "stream",
     "text": [
      "======================\n",
      "Now printing cross-table for the following column: opinion_seas_vacc_effective\n",
      "opinion_seas_vacc_effective       1.0       2.0       3.0       4.0       5.0\n",
      "health_worker                                                                \n",
      "0.0                          0.046816  0.084531  0.047731  0.443298  0.377624\n",
      "1.0                          0.035579  0.078411  0.024870  0.448014  0.413126\n",
      "======================\n",
      "Now printing cross-table for the following column: opinion_seas_risk\n",
      "opinion_seas_risk       1.0       2.0       3.0       4.0       5.0\n",
      "health_worker                                                      \n",
      "0.0                0.232564  0.351981  0.026165  0.282368  0.106922\n",
      "1.0                0.183293  0.264066  0.017259  0.369348  0.166034\n",
      "======================\n",
      "Now printing cross-table for the following column: opinion_seas_sick_from_vacc\n",
      "opinion_seas_sick_from_vacc       1.0       2.0       3.0       4.0       5.0\n",
      "health_worker                                                                \n",
      "0.0                          0.448310  0.295307  0.003784  0.186492  0.066107\n",
      "1.0                          0.497756  0.258889  0.001726  0.177770  0.063859\n"
     ]
    }
   ],
   "source": [
    "for col in ['opinion_seas_vacc_effective', 'opinion_seas_risk', 'opinion_seas_sick_from_vacc']:\n",
    "    print(\"======================\")\n",
    "    print(f\"Now printing cross-table for the following column: {col}\")\n",
    "    print(pd.crosstab(train['health_worker'],  train[col], normalize = 'index'))"
   ]
  },
  {
   "cell_type": "markdown",
   "metadata": {},
   "source": [
    "Melalui analisa secara singkat, tampak bahwa pekerja medis lebih memiliki keyakinan kuat bahwa vaksin flu musiman efektif dan akan mereka akan memiliki risiko tinggi jika mereka tak menerima vaksin, tetapi hasilnya tidak akan signifikan jika ditimbang dari segi statistik. Faktor ini kemungkinan tidak akan menjelaskan mengapa pekerja medis secara signifikan lebih berpeluang menerima vaksin flu musiman ketimbang pekerja non-medis.\n",
    "\n",
    "Analisa lebih jauh mengenai hal tersebut akan dilakukan pada tahap selanjutnya, namun untuk saat ini cukup untuk menampilkan bahwa pekerja medis lebih berpeluang menerima vaksin flu musiman."
   ]
  },
  {
   "cell_type": "markdown",
   "metadata": {},
   "source": [
    "Kesimpulan :\n",
    "\n",
    "Dari exploratory data analysis yang telah dilakukan, kita mendapati informasi awal / pengertian umum mengenai faktor-faktor mana saja yang memiliki korelasi terhadap rasio penerimaan vaksin. \n",
    "\n",
    "Lebih dari faktor apapun, kita melihat rekomendasi dokter tampak merupakan faktor dengan pengaruh terbesar pada kemungkinan individu menerima vaksin ataukah tidak menerima vaksin. Hubungan ini tidak serta merta berarti hubungan kausal (contohnya mereka yang bertemu dengan dokter mungkin punya sikap proaktif atau punya sangkaan awal dan percaya bahwa mereka memiliki risiko tinggi), tapi dapat disimpulkan/diterjemahkan bahwa salah satu langkah besar pertama untuk menyakinkan orang agar mendapatkan vaksin adalah dengan cara mendorong mereka untuk bertemu dokter terlebih dahulu. Secara logis, kesimpulan ini masuk akal - seorang dokter dapat menjawab keraguan seseorang terhadap vaksin, dan setiap individu mungkin akan lebih berpeluang untuk menerima vaksin setelah mendiskusikannya dengan ahli yang memiliki wewenang dalam permasalahan ini.\n",
    "\n",
    "Untuk saat ini, saya akan menggunakan insight hasil exploratory data analysis ini sebagai jawaban awal atas tantangan ini.\n",
    "\n",
    "Beberapa temuan awal yang berhasil kita dapatkan adalah:\n",
    "\n",
    "1. Rekomendasi dokter terhadap seseorang untuk mendapatkan vaksin adalah prediktor terkuat / paling berpengaruh terhadap kemungkinan orang mendapatkan vaksin flu H1N1 dan flu musiman. Namun, korelasi ini tidak berarti secara otomatis ada kausalitas antara keduanya. Sebagai contoh, temuan ini bisa jadi  mengindikasikan bahwa individu yang pergi bertemu dokter akan cenderung lebih peduli terhadap kesehatannya , sehingga akan menyebabkan terjadinya bias seleksi pada pemilihan responden.\n",
    "\n",
    "2. Individu yang tidak memiliki asuransi kesehatan akan semakin kecil peluangnya untuk menerima vaksin flu musiman, tapi fakta ini bisa jadi dikarenakan orang yang tidak memiliki asuransi kesehatan akan lebih jarang bertemu dokter, sehingga ia tidak mendapatkan informasi dan saran dari dokter untuk menerima vaksin\n",
    "\n",
    "3. Pekerja medis akan lebih berpeluang menerima vaksin dari mereka yang bukan pekerja medis, tetapi bukan berarti ini disebabkan mereka memandang flu musiman lebih berbahaya dari flu lain\n",
    "\n",
    "4. Memiliki anak kecil di dalam satu rumah dapat memprediksi kemungkinan menerima vaksin, namun hal ini hanya berlaku pada mereka yang memiliki anak kurang dari 6 bulan, karena anak dengan umur seperti ini, belum memiliki sistem imun yang sempurna / kuat.\n",
    "\n",
    "5. Mereka yang memiliki penyakit bawaan akan merasa bahwa mereka rentan terkena baik virus flu H1N1 dan virus flu musiman. Karenanya mereka akan lebih merasa perlu untuk menerima vaksin, sehingga memiliki kemungkinan yang besar untuk menerimanya.\n",
    "\n",
    "Dari lima temuan di atas, secara sederhana kita dapat merumuskan dua intervensi yang paling penting untuk meningkatkan penerimaan terhadap vaksin, yaitu:\n",
    "\n",
    "1. Meningkatkan akses terhadap informasi mengenai flu dan menyebarkannya -semakin meningkat kesadaran individu akan flu H1N1 dan flu musiman, maka akan semakin meningkat penerimaan vaksin.\n",
    "\n",
    "2. Dorong seseorang untuk bertemu dengan dokter. Sangat mungkin bahwa seseorang yang menemui dokternya akan lebih sadar akan kesehatan dirinya, dan mungkin pula seseorang yang menjawab bahwa dokter tidak merekomendasikan kepadanya adalah karena ia memang tidak menemui dokter. Secara logika, cukup masuk akal jika dikatakan saran dokter akan mendorong seseorang untuk menerima vaksin jika dokter menyarankan demikian.\n",
    "\n",
    "Langkah selanjutnya yang akan dibahas pada Part 2:\n",
    "\n",
    "1. Menentukan variabel / faktor mana yang memiliki kolinearitas\n",
    "2. Melakukan feature engineering\n",
    "3. Menggunakan lebih banyak variabel (pada analisa di atas, hanya digunakan beberapa variabel yang dianggap penting berdasarkan literatur)\n",
    "4. Menggunakan variabel berbeda untuk prediksi (sebagai contoh, tidak logis untuk menggunakan pandangan/opini seseorang mengenai virus H1N1 untuk memprediksi kemungkinan mereka mendapatkan flu musiman)"
   ]
  },
  {
   "cell_type": "markdown",
   "metadata": {},
   "source": [
    "Berikut ini adalah beberapa sumber yang digunakan :\n",
    "\n",
    "Agüero, F., Adell, M. N., Pérez Giménez, A., López Medina, M. J., & Garcia Continente, X. (2011). Adoption of preventive measures during and after the 2009 influenza A (H1N1) virus pandemic peak in Spain. Preventive Medicine, 53(3), 203–206. https://doi.org/10.1016/j.ypmed.2011.06.018\n",
    "\n",
    "Betsch, C., & Wicker, S. (2012). E-health use, vaccination knowledge and perception of own risk: Drivers of vaccination uptake in medical students. Vaccine, 30(6), 1143–1148. https://doi.org/10.1016/j.vaccine.2011.12.021\n",
    "\n",
    "Ramsey, M. A., & Marczinski, C. A. (2011). College students’ perceptions of H1N1 flu risk and attitudes toward vaccination. Vaccine, 29(44), 7599–7601. https://doi.org/10.1016/j.vaccine.2011.07.130\n",
    "\n",
    "Velan, B., Kaplan, G., Ziv, A., Boyko, V., & Lerner-Geva, L. (2011). Major motives in non-acceptance of A/H1N1 flu vaccination: The weight of rational assessment. Vaccine, 29(6), 1173–1179. https://doi.org/10.1016/j.vaccine.2010.12.006\n",
    "\n",
    "\"2009 H1N1 Epidemic\", CDC website, https://www.cdc.gov/flu/pandemic-resources/2009-h1n1-pandemic.html\n",
    "\n",
    "\"The Other Reasons People Don't Get Vaccines\", Scientific American, https://blogs.scientificamerican.com/observations/the-other-reasons-people-dont-get-vaccines/\n",
    "\n",
    "\"Many Americans Believe They Don't Need the Flu Vaccine\", NPR, https://www.npr.org/sections/health-shots/2015/11/27/456202280/many-americans-believe-they-dont-need-the-flu-vaccine\n",
    "\n",
    "\"Almost Half of US Adults to Skip Flu Shot\", WebMD, https://www.webmd.com/cold-and-flu/news/20181210/almost-half-of-us-adults-to-skip-flu-shot#1\n",
    "\n",
    "\"Who Don't People Get the Flu Shot?\", Seeker, https://www.seeker.com/why-dont-people-get-the-flu-shot-1766370718.html\n",
    "\n",
    "Tolbert, J., Orgera, K., & Singer, N. (2019). \"Key Facts about the Uninsured Population\". https://www.kff.org/uninsured/issue-brief/key-facts-about-the-uninsured-population/\n",
    "\n",
    "Taber, J.M., Leyva, B., & Persoskie, A. (2015). \"Why do People Avoid Medical Care? A Qualitative Study Using National Data\". https://www.ncbi.nlm.nih.gov/pmc/articles/PMC4351276/"
   ]
  },
  {
   "cell_type": "code",
   "execution_count": null,
   "metadata": {},
   "outputs": [],
   "source": []
  }
 ],
 "metadata": {
  "kernelspec": {
   "display_name": "Python 3",
   "language": "python",
   "name": "python3"
  },
  "language_info": {
   "codemirror_mode": {
    "name": "ipython",
    "version": 3
   },
   "file_extension": ".py",
   "mimetype": "text/x-python",
   "name": "python",
   "nbconvert_exporter": "python",
   "pygments_lexer": "ipython3",
   "version": "3.7.6"
  }
 },
 "nbformat": 4,
 "nbformat_minor": 2
}
